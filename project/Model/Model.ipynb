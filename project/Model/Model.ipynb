{
 "cells": [
  {
   "cell_type": "code",
   "execution_count": 1,
   "metadata": {
    "collapsed": true
   },
   "outputs": [],
   "source": [
    "import pandas as pd\n",
    "import numpy as np\n",
    "\n",
    "from sklearn.feature_extraction.text import CountVectorizer, TfidfVectorizer\n",
    "from sklearn.linear_model import LogisticRegression\n",
    "from sklearn.metrics import accuracy_score\n",
    "from sklearn.metrics import mean_absolute_error\n",
    "from sklearn.metrics import mean_squared_error\n",
    "from sklearn import linear_model"
   ]
  },
  {
   "cell_type": "markdown",
   "metadata": {},
   "source": [
    "## Load data"
   ]
  },
  {
   "cell_type": "code",
   "execution_count": 2,
   "metadata": {},
   "outputs": [
    {
     "data": {
      "text/html": [
       "<div>\n",
       "<style scoped>\n",
       "    .dataframe tbody tr th:only-of-type {\n",
       "        vertical-align: middle;\n",
       "    }\n",
       "\n",
       "    .dataframe tbody tr th {\n",
       "        vertical-align: top;\n",
       "    }\n",
       "\n",
       "    .dataframe thead th {\n",
       "        text-align: right;\n",
       "    }\n",
       "</style>\n",
       "<table border=\"1\" class=\"dataframe\">\n",
       "  <thead>\n",
       "    <tr style=\"text-align: right;\">\n",
       "      <th></th>\n",
       "      <th>id</th>\n",
       "      <th>text</th>\n",
       "      <th>sex</th>\n",
       "      <th>city</th>\n",
       "      <th>age</th>\n",
       "      <th>source</th>\n",
       "    </tr>\n",
       "  </thead>\n",
       "  <tbody>\n",
       "    <tr>\n",
       "      <th>0</th>\n",
       "      <td>356783654</td>\n",
       "      <td>читер!!! читер!!! ахаха \\nЛюблю когда называют...</td>\n",
       "      <td>2</td>\n",
       "      <td>1</td>\n",
       "      <td>19</td>\n",
       "      <td>1</td>\n",
       "    </tr>\n",
       "    <tr>\n",
       "      <th>1</th>\n",
       "      <td>139035920</td>\n",
       "      <td>Люблю тебя❤</td>\n",
       "      <td>2</td>\n",
       "      <td>1</td>\n",
       "      <td>24</td>\n",
       "      <td>1</td>\n",
       "    </tr>\n",
       "    <tr>\n",
       "      <th>2</th>\n",
       "      <td>251609296</td>\n",
       "      <td>Память полезно иногда терять - тогда радуешься...</td>\n",
       "      <td>1</td>\n",
       "      <td>2</td>\n",
       "      <td>26</td>\n",
       "      <td>1</td>\n",
       "    </tr>\n",
       "    <tr>\n",
       "      <th>3</th>\n",
       "      <td>86610358</td>\n",
       "      <td>Отличное начало, кажется, пора заканчивать...</td>\n",
       "      <td>1</td>\n",
       "      <td>1</td>\n",
       "      <td>30</td>\n",
       "      <td>1</td>\n",
       "    </tr>\n",
       "    <tr>\n",
       "      <th>4</th>\n",
       "      <td>314595249</td>\n",
       "      <td>Н_И_К_О_М_У Н_Е Н_У_Ж_Е_Н</td>\n",
       "      <td>2</td>\n",
       "      <td>1</td>\n",
       "      <td>17</td>\n",
       "      <td>1</td>\n",
       "    </tr>\n",
       "  </tbody>\n",
       "</table>\n",
       "</div>"
      ],
      "text/plain": [
       "          id                                               text  sex  city  \\\n",
       "0  356783654  читер!!! читер!!! ахаха \\nЛюблю когда называют...    2     1   \n",
       "1  139035920                                        Люблю тебя❤    2     1   \n",
       "2  251609296  Память полезно иногда терять - тогда радуешься...    1     2   \n",
       "3   86610358      Отличное начало, кажется, пора заканчивать...    1     1   \n",
       "4  314595249                          Н_И_К_О_М_У Н_Е Н_У_Ж_Е_Н    2     1   \n",
       "\n",
       "   age  source  \n",
       "0   19       1  \n",
       "1   24       1  \n",
       "2   26       1  \n",
       "3   30       1  \n",
       "4   17       1  "
      ]
     },
     "execution_count": 2,
     "metadata": {},
     "output_type": "execute_result"
    }
   ],
   "source": [
    "df = pd.read_csv('vk-crawl.csv', sep=',')\n",
    "df = df.dropna()\n",
    "df = df[df['text'].str.contains('[a-zA-Zа-яА-Я]')]\n",
    "df = df.sample(frac=1).reset_index(drop=True)\n",
    "\n",
    "df.head()"
   ]
  },
  {
   "cell_type": "markdown",
   "metadata": {},
   "source": [
    "## Predict sex"
   ]
  },
  {
   "cell_type": "code",
   "execution_count": 3,
   "metadata": {
    "collapsed": true
   },
   "outputs": [],
   "source": [
    "idxs = []\n",
    "m = min(df['sex'].value_counts())\n",
    "for a in range(1,3):\n",
    "    idxs.extend(df.index[df['sex'] == a].tolist()[:m])\n",
    "dfs = df.loc[idxs]"
   ]
  },
  {
   "cell_type": "code",
   "execution_count": 4,
   "metadata": {
    "collapsed": true
   },
   "outputs": [],
   "source": [
    "from sklearn.model_selection import train_test_split\n",
    "\n",
    "y = dfs['sex'].values - 1\n",
    "corpus = dfs['text'].values\n",
    "\n",
    "corpus_train, corpus_test, y_train, y_test = train_test_split(corpus, y, test_size=0.2, stratify=y)"
   ]
  },
  {
   "cell_type": "code",
   "execution_count": 5,
   "metadata": {
    "collapsed": true
   },
   "outputs": [],
   "source": [
    "vect = TfidfVectorizer(ngram_range=(1,4), min_df=3)\n",
    "vect.fit(corpus)\n",
    "\n",
    "X_train = vect.transform(corpus_train)\n",
    "X_test = vect.transform(corpus_test)\n",
    "\n",
    "sex_predictor = LogisticRegression(C=1.0)\n",
    "sex_predictor.fit(X_train, y_train)\n",
    "\n",
    "y_train__ = sex_predictor.predict(X_train)\n",
    "y_test__ = sex_predictor.predict(X_test)"
   ]
  },
  {
   "cell_type": "code",
   "execution_count": 6,
   "metadata": {},
   "outputs": [
    {
     "name": "stdout",
     "output_type": "stream",
     "text": [
      "Train 0.763639890386\n",
      "Test 0.656580163761\n",
      "Base mean 0.5\n"
     ]
    }
   ],
   "source": [
    "print('Train', accuracy_score(y_train__, y_train))\n",
    "print('Test', accuracy_score(y_test__, y_test))\n",
    "print('Base mean', accuracy_score(np.full_like(y_test, 0), y_test))"
   ]
  },
  {
   "cell_type": "code",
   "execution_count": 7,
   "metadata": {
    "collapsed": true
   },
   "outputs": [],
   "source": [
    "inv_vocab = {v: k for k, v in vect.vocabulary_.items()}"
   ]
  },
  {
   "cell_type": "code",
   "execution_count": 13,
   "metadata": {},
   "outputs": [
    {
     "data": {
      "text/html": [
       "<div>\n",
       "<style scoped>\n",
       "    .dataframe tbody tr th:only-of-type {\n",
       "        vertical-align: middle;\n",
       "    }\n",
       "\n",
       "    .dataframe tbody tr th {\n",
       "        vertical-align: top;\n",
       "    }\n",
       "\n",
       "    .dataframe thead th {\n",
       "        text-align: right;\n",
       "    }\n",
       "</style>\n",
       "<table border=\"1\" class=\"dataframe\">\n",
       "  <thead>\n",
       "    <tr style=\"text-align: right;\">\n",
       "      <th></th>\n",
       "      <th>F</th>\n",
       "      <th>M</th>\n",
       "    </tr>\n",
       "  </thead>\n",
       "  <tbody>\n",
       "    <tr>\n",
       "      <th>0</th>\n",
       "      <td>счастлива</td>\n",
       "      <td>крутой</td>\n",
       "    </tr>\n",
       "    <tr>\n",
       "      <th>1</th>\n",
       "      <td>рада</td>\n",
       "      <td>влюблен</td>\n",
       "    </tr>\n",
       "    <tr>\n",
       "      <th>2</th>\n",
       "      <td>счастливая</td>\n",
       "      <td>какой есть</td>\n",
       "    </tr>\n",
       "    <tr>\n",
       "      <th>3</th>\n",
       "      <td>счастливой</td>\n",
       "      <td>уверен</td>\n",
       "    </tr>\n",
       "    <tr>\n",
       "      <th>4</th>\n",
       "      <td>мужа</td>\n",
       "      <td>футбол</td>\n",
       "    </tr>\n",
       "    <tr>\n",
       "      <th>5</th>\n",
       "      <td>мальчики</td>\n",
       "      <td>ремонт</td>\n",
       "    </tr>\n",
       "    <tr>\n",
       "      <th>6</th>\n",
       "      <td>парня</td>\n",
       "      <td>свободен</td>\n",
       "    </tr>\n",
       "    <tr>\n",
       "      <th>7</th>\n",
       "      <td>замужем</td>\n",
       "      <td>стал</td>\n",
       "    </tr>\n",
       "    <tr>\n",
       "      <th>8</th>\n",
       "      <td>наращивание</td>\n",
       "      <td>честь</td>\n",
       "    </tr>\n",
       "    <tr>\n",
       "      <th>9</th>\n",
       "      <td>маникюр</td>\n",
       "      <td>отец</td>\n",
       "    </tr>\n",
       "    <tr>\n",
       "      <th>10</th>\n",
       "      <td>влюблена</td>\n",
       "      <td>хоккей</td>\n",
       "    </tr>\n",
       "    <tr>\n",
       "      <th>11</th>\n",
       "      <td>любимый</td>\n",
       "      <td>ведущий</td>\n",
       "    </tr>\n",
       "    <tr>\n",
       "      <th>12</th>\n",
       "      <td>хотела</td>\n",
       "      <td>вернулся</td>\n",
       "    </tr>\n",
       "    <tr>\n",
       "      <th>13</th>\n",
       "      <td>одежда</td>\n",
       "      <td>люблю ее</td>\n",
       "    </tr>\n",
       "    <tr>\n",
       "      <th>14</th>\n",
       "      <td>счастье</td>\n",
       "      <td>пацаны</td>\n",
       "    </tr>\n",
       "    <tr>\n",
       "      <th>15</th>\n",
       "      <td>сама</td>\n",
       "      <td>уехал</td>\n",
       "    </tr>\n",
       "    <tr>\n",
       "      <th>16</th>\n",
       "      <td>макияж</td>\n",
       "      <td>девушку</td>\n",
       "    </tr>\n",
       "    <tr>\n",
       "      <th>17</th>\n",
       "      <td>avon</td>\n",
       "      <td>женат</td>\n",
       "    </tr>\n",
       "    <tr>\n",
       "      <th>18</th>\n",
       "      <td>вернулась</td>\n",
       "      <td>рад</td>\n",
       "    </tr>\n",
       "    <tr>\n",
       "      <th>19</th>\n",
       "      <td>свободна</td>\n",
       "      <td>жену</td>\n",
       "    </tr>\n",
       "  </tbody>\n",
       "</table>\n",
       "</div>"
      ],
      "text/plain": [
       "              F           M\n",
       "0     счастлива      крутой\n",
       "1          рада     влюблен\n",
       "2    счастливая  какой есть\n",
       "3    счастливой      уверен\n",
       "4          мужа      футбол\n",
       "5      мальчики      ремонт\n",
       "6         парня    свободен\n",
       "7       замужем        стал\n",
       "8   наращивание       честь\n",
       "9       маникюр        отец\n",
       "10     влюблена      хоккей\n",
       "11      любимый     ведущий\n",
       "12       хотела    вернулся\n",
       "13       одежда    люблю ее\n",
       "14      счастье      пацаны\n",
       "15         сама       уехал\n",
       "16       макияж     девушку\n",
       "17         avon       женат\n",
       "18    вернулась         рад\n",
       "19     свободна        жену"
      ]
     },
     "execution_count": 13,
     "metadata": {},
     "output_type": "execute_result"
    }
   ],
   "source": [
    "df_sex_demo = pd.DataFrame()\n",
    "df_sex_demo['F'] = [inv_vocab[i] for i in np.argsort(sex_predictor.coef_[0])[:20]] \n",
    "df_sex_demo['M'] = [inv_vocab[i] for i in np.argsort(sex_predictor.coef_[0])[-20:]]\n",
    "df_sex_demo.head(20)"
   ]
  },
  {
   "cell_type": "code",
   "execution_count": null,
   "metadata": {
    "collapsed": true
   },
   "outputs": [],
   "source": []
  },
  {
   "cell_type": "code",
   "execution_count": null,
   "metadata": {
    "collapsed": true
   },
   "outputs": [],
   "source": []
  },
  {
   "cell_type": "markdown",
   "metadata": {},
   "source": [
    "## Predict age"
   ]
  },
  {
   "cell_type": "code",
   "execution_count": 14,
   "metadata": {
    "collapsed": true
   },
   "outputs": [],
   "source": [
    "def mean_absolute_percentage_error(y_true, y_pred):\n",
    "    return np.mean(np.abs((y_true - y_pred) / y_true))"
   ]
  },
  {
   "cell_type": "code",
   "execution_count": 15,
   "metadata": {
    "collapsed": true
   },
   "outputs": [],
   "source": [
    "idxs = []\n",
    "m = min(df['age'].value_counts())\n",
    "for a in range(16,41):\n",
    "    idxs.extend(df.index[df['age'] == a].tolist()[:m])\n",
    "dfa = df.loc[idxs]"
   ]
  },
  {
   "cell_type": "code",
   "execution_count": 16,
   "metadata": {
    "collapsed": true
   },
   "outputs": [],
   "source": [
    "y = dfa['age'].values\n",
    "corpus = dfa['text'].values\n",
    "\n",
    "corpus_train, corpus_test, y_train, y_test = train_test_split(corpus, y, test_size=0.2, stratify=y)"
   ]
  },
  {
   "cell_type": "code",
   "execution_count": 17,
   "metadata": {
    "collapsed": true
   },
   "outputs": [],
   "source": [
    "vect = TfidfVectorizer(ngram_range=(1,2), min_df=2)\n",
    "vect.fit(corpus)\n",
    "\n",
    "X_train = vect.transform(corpus_train)\n",
    "X_test = vect.transform(corpus_test)\n",
    "\n",
    "# age_predictor = LinearRegression()\n",
    "age_predictor = linear_model.Ridge(alpha = 3.0)\n",
    "age_predictor.fit(X_train, np.log(y_train))\n",
    "\n",
    "y_train__ = np.exp(age_predictor.predict(X_train))\n",
    "y_test__ = np.exp(age_predictor.predict(X_test))"
   ]
  },
  {
   "cell_type": "code",
   "execution_count": 18,
   "metadata": {},
   "outputs": [
    {
     "name": "stdout",
     "output_type": "stream",
     "text": [
      "Train 0.184076408167\n",
      "Test 0.216070454012\n",
      "Base mean 0.232591846442\n"
     ]
    }
   ],
   "source": [
    "print('Train', mean_absolute_percentage_error(y_train__, y_train))\n",
    "print('Test', mean_absolute_percentage_error(y_test__, y_test))\n",
    "print('Base mean', mean_absolute_percentage_error(np.full_like(y_test, np.mean(y_train)), y_test))"
   ]
  },
  {
   "cell_type": "code",
   "execution_count": 19,
   "metadata": {
    "collapsed": true
   },
   "outputs": [],
   "source": [
    "inv_vocab = {v: k for k, v in vect.vocabulary_.items()}"
   ]
  },
  {
   "cell_type": "code",
   "execution_count": 20,
   "metadata": {},
   "outputs": [
    {
     "data": {
      "text/html": [
       "<div>\n",
       "<style scoped>\n",
       "    .dataframe tbody tr th:only-of-type {\n",
       "        vertical-align: middle;\n",
       "    }\n",
       "\n",
       "    .dataframe tbody tr th {\n",
       "        vertical-align: top;\n",
       "    }\n",
       "\n",
       "    .dataframe thead th {\n",
       "        text-align: right;\n",
       "    }\n",
       "</style>\n",
       "<table border=\"1\" class=\"dataframe\">\n",
       "  <thead>\n",
       "    <tr style=\"text-align: right;\">\n",
       "      <th></th>\n",
       "      <th>Min Age</th>\n",
       "      <th>Max Age</th>\n",
       "    </tr>\n",
       "  </thead>\n",
       "  <tbody>\n",
       "    <tr>\n",
       "      <th>0</th>\n",
       "      <td>парня</td>\n",
       "      <td>бизнес</td>\n",
       "    </tr>\n",
       "    <tr>\n",
       "      <th>1</th>\n",
       "      <td>чс</td>\n",
       "      <td>вам</td>\n",
       "    </tr>\n",
       "    <tr>\n",
       "      <th>2</th>\n",
       "      <td>киса</td>\n",
       "      <td>женщины</td>\n",
       "    </tr>\n",
       "    <tr>\n",
       "      <th>3</th>\n",
       "      <td>inst</td>\n",
       "      <td>рыбалка</td>\n",
       "    </tr>\n",
       "    <tr>\n",
       "      <th>4</th>\n",
       "      <td>не кто</td>\n",
       "      <td>кофе</td>\n",
       "    </tr>\n",
       "    <tr>\n",
       "      <th>5</th>\n",
       "      <td>крут</td>\n",
       "      <td>улыбайтесь</td>\n",
       "    </tr>\n",
       "    <tr>\n",
       "      <th>6</th>\n",
       "      <td>аниме</td>\n",
       "      <td>елена</td>\n",
       "    </tr>\n",
       "    <tr>\n",
       "      <th>7</th>\n",
       "      <td>крутая</td>\n",
       "      <td>elena</td>\n",
       "    </tr>\n",
       "    <tr>\n",
       "      <th>8</th>\n",
       "      <td>11 лет</td>\n",
       "      <td>консультации</td>\n",
       "    </tr>\n",
       "    <tr>\n",
       "      <th>9</th>\n",
       "      <td>нечего</td>\n",
       "      <td>алексей</td>\n",
       "    </tr>\n",
       "    <tr>\n",
       "      <th>10</th>\n",
       "      <td>футбол</td>\n",
       "      <td>сергей</td>\n",
       "    </tr>\n",
       "    <tr>\n",
       "      <th>11</th>\n",
       "      <td>инст</td>\n",
       "      <td>силы</td>\n",
       "    </tr>\n",
       "    <tr>\n",
       "      <th>12</th>\n",
       "      <td>псих</td>\n",
       "      <td>женат</td>\n",
       "    </tr>\n",
       "    <tr>\n",
       "      <th>13</th>\n",
       "      <td>школа</td>\n",
       "      <td>женщине</td>\n",
       "    </tr>\n",
       "    <tr>\n",
       "      <th>14</th>\n",
       "      <td>го</td>\n",
       "      <td>женщину</td>\n",
       "    </tr>\n",
       "    <tr>\n",
       "      <th>15</th>\n",
       "      <td>дьявола</td>\n",
       "      <td>массаж</td>\n",
       "    </tr>\n",
       "    <tr>\n",
       "      <th>16</th>\n",
       "      <td>плиз</td>\n",
       "      <td>наталья</td>\n",
       "    </tr>\n",
       "    <tr>\n",
       "      <th>17</th>\n",
       "      <td>гулять</td>\n",
       "      <td>замужем</td>\n",
       "    </tr>\n",
       "    <tr>\n",
       "      <th>18</th>\n",
       "      <td>05</td>\n",
       "      <td>женщин</td>\n",
       "    </tr>\n",
       "    <tr>\n",
       "      <th>19</th>\n",
       "      <td>ǝн</td>\n",
       "      <td>детей</td>\n",
       "    </tr>\n",
       "  </tbody>\n",
       "</table>\n",
       "</div>"
      ],
      "text/plain": [
       "    Min Age       Max Age\n",
       "0     парня        бизнес\n",
       "1        чс           вам\n",
       "2      киса       женщины\n",
       "3      inst       рыбалка\n",
       "4    не кто          кофе\n",
       "5      крут    улыбайтесь\n",
       "6     аниме         елена\n",
       "7    крутая         elena\n",
       "8    11 лет  консультации\n",
       "9    нечего       алексей\n",
       "10   футбол        сергей\n",
       "11     инст          силы\n",
       "12     псих         женат\n",
       "13    школа       женщине\n",
       "14       го       женщину\n",
       "15  дьявола        массаж\n",
       "16     плиз       наталья\n",
       "17   гулять       замужем\n",
       "18       05        женщин\n",
       "19       ǝн         детей"
      ]
     },
     "execution_count": 20,
     "metadata": {},
     "output_type": "execute_result"
    }
   ],
   "source": [
    "df_age_demo = pd.DataFrame()\n",
    "df_age_demo['Min Age'] = [inv_vocab[i] for i in np.argsort(age_predictor.coef_)[:20]] \n",
    "df_age_demo['Max Age'] = [inv_vocab[i] for i in np.argsort(age_predictor.coef_)[-20:]]\n",
    "df_age_demo.head(20)"
   ]
  },
  {
   "cell_type": "code",
   "execution_count": null,
   "metadata": {
    "collapsed": true
   },
   "outputs": [],
   "source": []
  },
  {
   "cell_type": "code",
   "execution_count": null,
   "metadata": {
    "collapsed": true
   },
   "outputs": [],
   "source": []
  }
 ],
 "metadata": {
  "kernelspec": {
   "display_name": "Python 3",
   "language": "python",
   "name": "python3"
  },
  "language_info": {
   "codemirror_mode": {
    "name": "ipython",
    "version": 3
   },
   "file_extension": ".py",
   "mimetype": "text/x-python",
   "name": "python",
   "nbconvert_exporter": "python",
   "pygments_lexer": "ipython3",
   "version": "3.5.2"
  }
 },
 "nbformat": 4,
 "nbformat_minor": 2
}
