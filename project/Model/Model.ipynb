{
 "cells": [
  {
   "cell_type": "code",
   "execution_count": 1,
   "metadata": {},
   "outputs": [],
   "source": [
    "import pandas as pd\n",
    "import numpy as np\n",
    "\n",
    "from sklearn.feature_extraction.text import CountVectorizer, TfidfVectorizer\n",
    "from sklearn.linear_model import LogisticRegression\n",
    "from sklearn.metrics import accuracy_score\n",
    "from sklearn.metrics import mean_absolute_error\n",
    "from sklearn.metrics import mean_squared_error\n",
    "from sklearn import linear_model"
   ]
  },
  {
   "cell_type": "markdown",
   "metadata": {},
   "source": [
    "## Load data"
   ]
  },
  {
   "cell_type": "code",
   "execution_count": 2,
   "metadata": {},
   "outputs": [
    {
     "data": {
      "text/html": [
       "<div>\n",
       "<style>\n",
       "    .dataframe thead tr:only-child th {\n",
       "        text-align: right;\n",
       "    }\n",
       "\n",
       "    .dataframe thead th {\n",
       "        text-align: left;\n",
       "    }\n",
       "\n",
       "    .dataframe tbody tr th {\n",
       "        vertical-align: top;\n",
       "    }\n",
       "</style>\n",
       "<table border=\"1\" class=\"dataframe\">\n",
       "  <thead>\n",
       "    <tr style=\"text-align: right;\">\n",
       "      <th></th>\n",
       "      <th>id</th>\n",
       "      <th>text</th>\n",
       "      <th>sex</th>\n",
       "      <th>city</th>\n",
       "      <th>age</th>\n",
       "      <th>source</th>\n",
       "    </tr>\n",
       "  </thead>\n",
       "  <tbody>\n",
       "    <tr>\n",
       "      <th>0</th>\n",
       "      <td>132475635</td>\n",
       "      <td>а че случилось?</td>\n",
       "      <td>2</td>\n",
       "      <td>1</td>\n",
       "      <td>35</td>\n",
       "      <td>1</td>\n",
       "    </tr>\n",
       "    <tr>\n",
       "      <th>1</th>\n",
       "      <td>208617149</td>\n",
       "      <td>Лучшая подруга - это когда у вас есть такие сл...</td>\n",
       "      <td>1</td>\n",
       "      <td>1</td>\n",
       "      <td>20</td>\n",
       "      <td>1</td>\n",
       "    </tr>\n",
       "    <tr>\n",
       "      <th>2</th>\n",
       "      <td>493072</td>\n",
       "      <td>Капитан Очевидность должен сделать в жизни три...</td>\n",
       "      <td>1</td>\n",
       "      <td>1</td>\n",
       "      <td>37</td>\n",
       "      <td>1</td>\n",
       "    </tr>\n",
       "    <tr>\n",
       "      <th>3</th>\n",
       "      <td>365796530</td>\n",
       "      <td>Всем привееееееееет!</td>\n",
       "      <td>1</td>\n",
       "      <td>1</td>\n",
       "      <td>21</td>\n",
       "      <td>1</td>\n",
       "    </tr>\n",
       "    <tr>\n",
       "      <th>4</th>\n",
       "      <td>430739402</td>\n",
       "      <td>Чему бы жизнь нас не учила, а сердце верит в ч...</td>\n",
       "      <td>1</td>\n",
       "      <td>1</td>\n",
       "      <td>20</td>\n",
       "      <td>1</td>\n",
       "    </tr>\n",
       "  </tbody>\n",
       "</table>\n",
       "</div>"
      ],
      "text/plain": [
       "          id                                               text  sex  city  \\\n",
       "0  132475635                                    а че случилось?    2     1   \n",
       "1  208617149  Лучшая подруга - это когда у вас есть такие сл...    1     1   \n",
       "2     493072  Капитан Очевидность должен сделать в жизни три...    1     1   \n",
       "3  365796530                               Всем привееееееееет!    1     1   \n",
       "4  430739402  Чему бы жизнь нас не учила, а сердце верит в ч...    1     1   \n",
       "\n",
       "   age  source  \n",
       "0   35       1  \n",
       "1   20       1  \n",
       "2   37       1  \n",
       "3   21       1  \n",
       "4   20       1  "
      ]
     },
     "execution_count": 2,
     "metadata": {},
     "output_type": "execute_result"
    }
   ],
   "source": [
    "df = pd.read_csv('vk-crawl.csv', sep=',')\n",
    "df = df.dropna()\n",
    "df = df[df['text'].str.contains('[a-zA-Zа-яА-Я]')]\n",
    "df = df.sample(frac=1).reset_index(drop=True)\n",
    "\n",
    "df.head()"
   ]
  },
  {
   "cell_type": "markdown",
   "metadata": {},
   "source": [
    "## Predict sex"
   ]
  },
  {
   "cell_type": "code",
   "execution_count": 3,
   "metadata": {},
   "outputs": [],
   "source": [
    "idxs = []\n",
    "m = min(df['sex'].value_counts())\n",
    "for a in range(1,3):\n",
    "    idxs.extend(df.index[df['sex'] == a].tolist()[:m])\n",
    "dfs = df.loc[idxs]"
   ]
  },
  {
   "cell_type": "code",
   "execution_count": 101,
   "metadata": {},
   "outputs": [],
   "source": [
    "from sklearn.model_selection import train_test_split\n",
    "\n",
    "y = dfs['sex'].values - 1\n",
    "corpus = dfs['text'].values\n",
    "\n",
    "corpus_train, corpus_test, y_train, y_test = train_test_split(corpus, y, test_size=0.2, stratify=y)"
   ]
  },
  {
   "cell_type": "code",
   "execution_count": 102,
   "metadata": {},
   "outputs": [],
   "source": [
    "# word case\n",
    "vect = TfidfVectorizer(ngram_range=(1,4), min_df=3, analyzer='word')\n",
    "vect.fit(corpus_train)\n",
    "\n",
    "X_train = vect.transform(corpus_train)\n",
    "X_test = vect.transform(corpus_test)\n",
    "\n",
    "sex_predictor = LogisticRegression(C=1.0)\n",
    "sex_predictor.fit(X_train, y_train)\n",
    "\n",
    "y_train__ = sex_predictor.predict(X_train)\n",
    "y_test__ = sex_predictor.predict(X_test)"
   ]
  },
  {
   "cell_type": "code",
   "execution_count": 103,
   "metadata": {},
   "outputs": [],
   "source": [
    "inv_vocab = {v: k for k, v in vect.vocabulary_.items()}\n",
    "df_sex_demo = pd.DataFrame()\n",
    "df_sex_demo['F'] = [inv_vocab[i] for i in np.argsort(sex_predictor.coef_[0])[:20]] \n",
    "df_sex_demo['M'] = [inv_vocab[i] for i in np.argsort(sex_predictor.coef_[0])[-20:]]"
   ]
  },
  {
   "cell_type": "code",
   "execution_count": 105,
   "metadata": {},
   "outputs": [],
   "source": [
    "y_train__raw_word = sex_predictor.decision_function(X_train)\n",
    "y_test__raw_word =  sex_predictor.decision_function(X_test)"
   ]
  },
  {
   "cell_type": "code",
   "execution_count": 106,
   "metadata": {},
   "outputs": [
    {
     "name": "stdout",
     "output_type": "stream",
     "text": [
      "('Train', 0.73118753844903839)\n",
      "('Test', 0.63220614408419096)\n",
      "('Base mean', 0.49999226185870155)\n"
     ]
    }
   ],
   "source": [
    "print('Train', accuracy_score(y_train__, y_train))\n",
    "print('Test', accuracy_score(y_test__, y_test))\n",
    "print('Base mean', accuracy_score(np.full_like(y_test, 0), y_test))"
   ]
  },
  {
   "cell_type": "code",
   "execution_count": 48,
   "metadata": {},
   "outputs": [],
   "source": [
    "# char case\n",
    "vect = TfidfVectorizer(ngram_range=(1,4), min_df=10, analyzer='char')\n",
    "vect.fit(corpus_train)\n",
    "\n",
    "X_train = vect.transform(corpus_train)\n",
    "X_test = vect.transform(corpus_test)\n",
    "\n",
    "sex_predictor = LogisticRegression(C=1.0)\n",
    "sex_predictor.fit(X_train, y_train)\n",
    "\n",
    "y_train__ = sex_predictor.predict(X_train)\n",
    "y_test__ = sex_predictor.predict(X_test)"
   ]
  },
  {
   "cell_type": "code",
   "execution_count": 49,
   "metadata": {},
   "outputs": [],
   "source": [
    "y_train__raw_char = sex_predictor.decision_function(X_train)\n",
    "y_test__raw_char =  sex_predictor.decision_function(X_test)"
   ]
  },
  {
   "cell_type": "code",
   "execution_count": 50,
   "metadata": {},
   "outputs": [
    {
     "name": "stdout",
     "output_type": "stream",
     "text": [
      "('Train', 0.72665683918919444)\n",
      "('Test', 0.67140756790218992)\n",
      "('Base mean', 0.49999226185870155)\n"
     ]
    }
   ],
   "source": [
    "print('Train', accuracy_score(y_train__, y_train))\n",
    "print('Test', accuracy_score(y_test__, y_test))\n",
    "print('Base mean', accuracy_score(np.full_like(y_test, 0), y_test))"
   ]
  },
  {
   "cell_type": "code",
   "execution_count": 51,
   "metadata": {},
   "outputs": [],
   "source": [
    "y_train__stacked = np.heaviside(y_train__raw_char + y_train__raw_word, 0)\n",
    "y_test__stacked = np.heaviside(y_test__raw_char + y_test__raw_word, 0)"
   ]
  },
  {
   "cell_type": "code",
   "execution_count": 52,
   "metadata": {
    "scrolled": true
   },
   "outputs": [
    {
     "name": "stdout",
     "output_type": "stream",
     "text": [
      "('Train', 0.75934674358408882)\n",
      "('Test', 0.67789213031029949)\n"
     ]
    }
   ],
   "source": [
    "print('Train', accuracy_score(y_train__stacked, y_train))\n",
    "print('Test', accuracy_score(y_test__stacked, y_test))"
   ]
  },
  {
   "cell_type": "code",
   "execution_count": 104,
   "metadata": {},
   "outputs": [
    {
     "data": {
      "text/html": [
       "<div>\n",
       "<style>\n",
       "    .dataframe thead tr:only-child th {\n",
       "        text-align: right;\n",
       "    }\n",
       "\n",
       "    .dataframe thead th {\n",
       "        text-align: left;\n",
       "    }\n",
       "\n",
       "    .dataframe tbody tr th {\n",
       "        vertical-align: top;\n",
       "    }\n",
       "</style>\n",
       "<table border=\"1\" class=\"dataframe\">\n",
       "  <thead>\n",
       "    <tr style=\"text-align: right;\">\n",
       "      <th></th>\n",
       "      <th>F</th>\n",
       "      <th>M</th>\n",
       "    </tr>\n",
       "  </thead>\n",
       "  <tbody>\n",
       "    <tr>\n",
       "      <th>0</th>\n",
       "      <td>счастлива</td>\n",
       "      <td>счастлив</td>\n",
       "    </tr>\n",
       "    <tr>\n",
       "      <th>1</th>\n",
       "      <td>рада</td>\n",
       "      <td>спартак</td>\n",
       "    </tr>\n",
       "    <tr>\n",
       "      <th>2</th>\n",
       "      <td>счастливая</td>\n",
       "      <td>клан</td>\n",
       "    </tr>\n",
       "    <tr>\n",
       "      <th>3</th>\n",
       "      <td>счастливой</td>\n",
       "      <td>ремонт</td>\n",
       "    </tr>\n",
       "    <tr>\n",
       "      <th>4</th>\n",
       "      <td>мужа</td>\n",
       "      <td>честь</td>\n",
       "    </tr>\n",
       "    <tr>\n",
       "      <th>5</th>\n",
       "      <td>парня</td>\n",
       "      <td>волк</td>\n",
       "    </tr>\n",
       "    <tr>\n",
       "      <th>6</th>\n",
       "      <td>мальчики</td>\n",
       "      <td>люблю её</td>\n",
       "    </tr>\n",
       "    <tr>\n",
       "      <th>7</th>\n",
       "      <td>наращивание</td>\n",
       "      <td>вернулся</td>\n",
       "    </tr>\n",
       "    <tr>\n",
       "      <th>8</th>\n",
       "      <td>замужем</td>\n",
       "      <td>хоккей</td>\n",
       "    </tr>\n",
       "    <tr>\n",
       "      <th>9</th>\n",
       "      <td>маникюр</td>\n",
       "      <td>влюблен</td>\n",
       "    </tr>\n",
       "    <tr>\n",
       "      <th>10</th>\n",
       "      <td>сама</td>\n",
       "      <td>стал</td>\n",
       "    </tr>\n",
       "    <tr>\n",
       "      <th>11</th>\n",
       "      <td>влюблена</td>\n",
       "      <td>свободен</td>\n",
       "    </tr>\n",
       "    <tr>\n",
       "      <th>12</th>\n",
       "      <td>люблю его</td>\n",
       "      <td>футбол</td>\n",
       "    </tr>\n",
       "    <tr>\n",
       "      <th>13</th>\n",
       "      <td>замуж</td>\n",
       "      <td>люблю ее</td>\n",
       "    </tr>\n",
       "    <tr>\n",
       "      <th>14</th>\n",
       "      <td>влюбилась</td>\n",
       "      <td>ведущий</td>\n",
       "    </tr>\n",
       "    <tr>\n",
       "      <th>15</th>\n",
       "      <td>ведущая</td>\n",
       "      <td>девушку</td>\n",
       "    </tr>\n",
       "    <tr>\n",
       "      <th>16</th>\n",
       "      <td>свободна</td>\n",
       "      <td>уехал</td>\n",
       "    </tr>\n",
       "    <tr>\n",
       "      <th>17</th>\n",
       "      <td>одежда</td>\n",
       "      <td>рад</td>\n",
       "    </tr>\n",
       "    <tr>\n",
       "      <th>18</th>\n",
       "      <td>макияж</td>\n",
       "      <td>женат</td>\n",
       "    </tr>\n",
       "    <tr>\n",
       "      <th>19</th>\n",
       "      <td>любимый</td>\n",
       "      <td>жену</td>\n",
       "    </tr>\n",
       "  </tbody>\n",
       "</table>\n",
       "</div>"
      ],
      "text/plain": [
       "              F         M\n",
       "0     счастлива  счастлив\n",
       "1          рада   спартак\n",
       "2    счастливая      клан\n",
       "3    счастливой    ремонт\n",
       "4          мужа     честь\n",
       "5         парня      волк\n",
       "6      мальчики  люблю её\n",
       "7   наращивание  вернулся\n",
       "8       замужем    хоккей\n",
       "9       маникюр   влюблен\n",
       "10         сама      стал\n",
       "11     влюблена  свободен\n",
       "12    люблю его    футбол\n",
       "13        замуж  люблю ее\n",
       "14    влюбилась   ведущий\n",
       "15      ведущая   девушку\n",
       "16     свободна     уехал\n",
       "17       одежда       рад\n",
       "18       макияж     женат\n",
       "19      любимый      жену"
      ]
     },
     "execution_count": 104,
     "metadata": {},
     "output_type": "execute_result"
    }
   ],
   "source": [
    "df_sex_demo.head(20)"
   ]
  },
  {
   "cell_type": "code",
   "execution_count": null,
   "metadata": {
    "collapsed": true
   },
   "outputs": [],
   "source": []
  },
  {
   "cell_type": "code",
   "execution_count": null,
   "metadata": {
    "collapsed": true
   },
   "outputs": [],
   "source": []
  },
  {
   "cell_type": "markdown",
   "metadata": {},
   "source": [
    "## Predict age"
   ]
  },
  {
   "cell_type": "code",
   "execution_count": 53,
   "metadata": {},
   "outputs": [],
   "source": [
    "def mean_absolute_percentage_error(y_true, y_pred):\n",
    "    return np.mean(np.abs((y_true - y_pred) / y_true))"
   ]
  },
  {
   "cell_type": "code",
   "execution_count": 54,
   "metadata": {},
   "outputs": [],
   "source": [
    "idxs = []\n",
    "m = min(df['age'].value_counts())\n",
    "for a in range(16,41):\n",
    "    idxs.extend(df.index[df['age'] == a].tolist()[:m])\n",
    "dfa = df.loc[idxs]"
   ]
  },
  {
   "cell_type": "code",
   "execution_count": 55,
   "metadata": {},
   "outputs": [],
   "source": [
    "y = dfa['age'].values\n",
    "corpus = dfa['text'].values\n",
    "\n",
    "corpus_train, corpus_test, y_train, y_test = train_test_split(corpus, y, test_size=0.2, stratify=y)"
   ]
  },
  {
   "cell_type": "code",
   "execution_count": 97,
   "metadata": {},
   "outputs": [],
   "source": [
    "# word case\n",
    "vect = TfidfVectorizer(ngram_range=(1,2), min_df=2, analyzer='word')\n",
    "vect.fit(corpus)\n",
    "\n",
    "X_train = vect.transform(corpus_train)\n",
    "X_test = vect.transform(corpus_test)\n",
    "\n",
    "# age_predictor = LinearRegression()\n",
    "age_predictor = linear_model.Ridge(alpha = 3.0)\n",
    "age_predictor.fit(X_train, np.log(y_train))\n",
    "\n",
    "y_train__ = np.exp(age_predictor.predict(X_train))\n",
    "y_test__ = np.exp(age_predictor.predict(X_test))"
   ]
  },
  {
   "cell_type": "code",
   "execution_count": 98,
   "metadata": {},
   "outputs": [],
   "source": [
    "inv_vocab = {v: k for k, v in vect.vocabulary_.items()}\n",
    "df_age_demo = pd.DataFrame()\n",
    "df_age_demo['Min Age'] = [inv_vocab[i] for i in np.argsort(age_predictor.coef_)[:20]] \n",
    "df_age_demo['Max Age'] = [inv_vocab[i] for i in np.argsort(age_predictor.coef_)[-20:]]"
   ]
  },
  {
   "cell_type": "code",
   "execution_count": 81,
   "metadata": {},
   "outputs": [],
   "source": [
    "y_train__raw_word = age_predictor.predict(X_train)\n",
    "y_test__raw_word =  age_predictor.predict(X_test)"
   ]
  },
  {
   "cell_type": "code",
   "execution_count": 83,
   "metadata": {},
   "outputs": [
    {
     "name": "stdout",
     "output_type": "stream",
     "text": [
      "('Train', 0.18616729270707263)\n",
      "('Test', 0.21542272596903164)\n",
      "('Base mean', 0.4799230584275066)\n"
     ]
    }
   ],
   "source": [
    "print('Train', mean_absolute_percentage_error(y_train__, y_train))\n",
    "print('Test', mean_absolute_percentage_error(y_test__, y_test))\n",
    "print('Base mean', mean_absolute_percentage_error(np.full_like(y_test, np.mean(y_train)), y_test))"
   ]
  },
  {
   "cell_type": "code",
   "execution_count": 92,
   "metadata": {},
   "outputs": [],
   "source": [
    "# char case\n",
    "vect = TfidfVectorizer(ngram_range=(1,4), min_df=10, analyzer='char')\n",
    "vect.fit(corpus)\n",
    "\n",
    "X_train = vect.transform(corpus_train)\n",
    "X_test = vect.transform(corpus_test)\n",
    "\n",
    "# age_predictor = LinearRegression()\n",
    "age_predictor = linear_model.Ridge(alpha = 3.0)\n",
    "age_predictor.fit(X_train, np.log(y_train))\n",
    "\n",
    "y_train__ = np.exp(age_predictor.predict(X_train))\n",
    "y_test__ = np.exp(age_predictor.predict(X_test))"
   ]
  },
  {
   "cell_type": "code",
   "execution_count": 93,
   "metadata": {},
   "outputs": [],
   "source": [
    "y_train__raw_char = age_predictor.predict(X_train)\n",
    "y_test__raw_char =  age_predictor.predict(X_test)"
   ]
  },
  {
   "cell_type": "code",
   "execution_count": 94,
   "metadata": {},
   "outputs": [
    {
     "name": "stdout",
     "output_type": "stream",
     "text": [
      "('Train', 0.18622596859456805)\n",
      "('Test', 0.20772561864931444)\n",
      "('Base mean', 0.22283983306143404)\n"
     ]
    }
   ],
   "source": [
    "print('Train', mean_absolute_percentage_error(y_train__, y_train))\n",
    "print('Test', mean_absolute_percentage_error(y_test__, y_test))\n",
    "print('Base mean', mean_absolute_percentage_error(np.full_like(y_test__, np.mean(y_train)), y_test))"
   ]
  },
  {
   "cell_type": "code",
   "execution_count": 95,
   "metadata": {},
   "outputs": [],
   "source": [
    "y_train__stacked = (y_train__raw_char + y_train__raw_word) / 2.0\n",
    "y_train__stacked = np.exp(y_train__stacked)\n",
    "y_test__stacked = (y_test__raw_char + y_test__raw_word) / 2.0\n",
    "y_test__stacked = np.exp(y_test__stacked)"
   ]
  },
  {
   "cell_type": "code",
   "execution_count": 96,
   "metadata": {},
   "outputs": [
    {
     "name": "stdout",
     "output_type": "stream",
     "text": [
      "('Train', 0.18418496988564506)\n",
      "('Test', 0.20924604539339678)\n"
     ]
    }
   ],
   "source": [
    "print('Train', mean_absolute_percentage_error(y_train__stacked, y_train))\n",
    "print('Test', mean_absolute_percentage_error(y_test__stacked, y_test))\n",
    "# не сработало :("
   ]
  },
  {
   "cell_type": "code",
   "execution_count": 99,
   "metadata": {},
   "outputs": [
    {
     "data": {
      "text/html": [
       "<div>\n",
       "<style>\n",
       "    .dataframe thead tr:only-child th {\n",
       "        text-align: right;\n",
       "    }\n",
       "\n",
       "    .dataframe thead th {\n",
       "        text-align: left;\n",
       "    }\n",
       "\n",
       "    .dataframe tbody tr th {\n",
       "        vertical-align: top;\n",
       "    }\n",
       "</style>\n",
       "<table border=\"1\" class=\"dataframe\">\n",
       "  <thead>\n",
       "    <tr style=\"text-align: right;\">\n",
       "      <th></th>\n",
       "      <th>Min Age</th>\n",
       "      <th>Max Age</th>\n",
       "    </tr>\n",
       "  </thead>\n",
       "  <tbody>\n",
       "    <tr>\n",
       "      <th>0</th>\n",
       "      <td>не чего</td>\n",
       "      <td>ремонт</td>\n",
       "    </tr>\n",
       "    <tr>\n",
       "      <th>1</th>\n",
       "      <td>кек</td>\n",
       "      <td>женщине</td>\n",
       "    </tr>\n",
       "    <tr>\n",
       "      <th>2</th>\n",
       "      <td>17</td>\n",
       "      <td>рада новым</td>\n",
       "    </tr>\n",
       "    <tr>\n",
       "      <th>3</th>\n",
       "      <td>cs</td>\n",
       "      <td>консультант</td>\n",
       "    </tr>\n",
       "    <tr>\n",
       "      <th>4</th>\n",
       "      <td>люблю всех</td>\n",
       "      <td>отпуск</td>\n",
       "    </tr>\n",
       "    <tr>\n",
       "      <th>5</th>\n",
       "      <td>топ</td>\n",
       "      <td>правильно</td>\n",
       "    </tr>\n",
       "    <tr>\n",
       "      <th>6</th>\n",
       "      <td>inst</td>\n",
       "      <td>консультации</td>\n",
       "    </tr>\n",
       "    <tr>\n",
       "      <th>7</th>\n",
       "      <td>дратути</td>\n",
       "      <td>наталья</td>\n",
       "    </tr>\n",
       "    <tr>\n",
       "      <th>8</th>\n",
       "      <td>хай</td>\n",
       "      <td>стилист</td>\n",
       "    </tr>\n",
       "    <tr>\n",
       "      <th>9</th>\n",
       "      <td>лю</td>\n",
       "      <td>психолог</td>\n",
       "    </tr>\n",
       "    <tr>\n",
       "      <th>10</th>\n",
       "      <td>крутая</td>\n",
       "      <td>светлана</td>\n",
       "    </tr>\n",
       "    <tr>\n",
       "      <th>11</th>\n",
       "      <td>инст</td>\n",
       "      <td>женат</td>\n",
       "    </tr>\n",
       "    <tr>\n",
       "      <th>12</th>\n",
       "      <td>не кто</td>\n",
       "      <td>замужем</td>\n",
       "    </tr>\n",
       "    <tr>\n",
       "      <th>13</th>\n",
       "      <td>для себя</td>\n",
       "      <td>массаж</td>\n",
       "    </tr>\n",
       "    <tr>\n",
       "      <th>14</th>\n",
       "      <td>или ты</td>\n",
       "      <td>сергей</td>\n",
       "    </tr>\n",
       "    <tr>\n",
       "      <th>15</th>\n",
       "      <td>жиза</td>\n",
       "      <td>женщина</td>\n",
       "    </tr>\n",
       "    <tr>\n",
       "      <th>16</th>\n",
       "      <td>аниме</td>\n",
       "      <td>татьяна</td>\n",
       "    </tr>\n",
       "    <tr>\n",
       "      <th>17</th>\n",
       "      <td>хочу быть</td>\n",
       "      <td>елена</td>\n",
       "    </tr>\n",
       "    <tr>\n",
       "      <th>18</th>\n",
       "      <td>мама папа</td>\n",
       "      <td>детей</td>\n",
       "    </tr>\n",
       "    <tr>\n",
       "      <th>19</th>\n",
       "      <td>вечный онлайн</td>\n",
       "      <td>женщины</td>\n",
       "    </tr>\n",
       "  </tbody>\n",
       "</table>\n",
       "</div>"
      ],
      "text/plain": [
       "          Min Age       Max Age\n",
       "0         не чего        ремонт\n",
       "1             кек       женщине\n",
       "2              17    рада новым\n",
       "3              cs   консультант\n",
       "4      люблю всех        отпуск\n",
       "5             топ     правильно\n",
       "6            inst  консультации\n",
       "7         дратути       наталья\n",
       "8             хай       стилист\n",
       "9              лю      психолог\n",
       "10         крутая      светлана\n",
       "11           инст         женат\n",
       "12         не кто       замужем\n",
       "13       для себя        массаж\n",
       "14         или ты        сергей\n",
       "15           жиза       женщина\n",
       "16          аниме       татьяна\n",
       "17      хочу быть         елена\n",
       "18      мама папа         детей\n",
       "19  вечный онлайн       женщины"
      ]
     },
     "execution_count": 99,
     "metadata": {},
     "output_type": "execute_result"
    }
   ],
   "source": [
    "df_age_demo.head(20)"
   ]
  },
  {
   "cell_type": "code",
   "execution_count": null,
   "metadata": {
    "collapsed": true
   },
   "outputs": [],
   "source": []
  },
  {
   "cell_type": "code",
   "execution_count": null,
   "metadata": {
    "collapsed": true
   },
   "outputs": [],
   "source": []
  }
 ],
 "metadata": {
  "kernelspec": {
   "display_name": "Python 3",
   "language": "python",
   "name": "python3"
  },
  "language_info": {
   "codemirror_mode": {
    "name": "ipython",
    "version": 2
   },
   "file_extension": ".py",
   "mimetype": "text/x-python",
   "name": "python",
   "nbconvert_exporter": "python",
   "pygments_lexer": "ipython2",
   "version": "2.7.10"
  }
 },
 "nbformat": 4,
 "nbformat_minor": 2
}
