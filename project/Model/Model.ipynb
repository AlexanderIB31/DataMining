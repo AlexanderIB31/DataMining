{
 "cells": [
  {
   "cell_type": "code",
   "execution_count": 1,
   "metadata": {},
   "outputs": [],
   "source": [
    "import pandas as pd\n",
    "import numpy as np\n",
    "\n",
    "from sklearn.feature_extraction.text import CountVectorizer, TfidfVectorizer\n",
    "from sklearn.linear_model import LogisticRegression\n",
    "from sklearn.metrics import accuracy_score\n",
    "from sklearn.metrics import mean_absolute_error\n",
    "from sklearn.metrics import mean_squared_error\n",
    "from sklearn import linear_model\n",
    "from sklearn.model_selection import train_test_split\n",
    "from imblearn.over_sampling import RandomOverSampler"
   ]
  },
  {
   "cell_type": "markdown",
   "metadata": {},
   "source": [
    "## Load data"
   ]
  },
  {
   "cell_type": "code",
   "execution_count": 2,
   "metadata": {},
   "outputs": [
    {
     "data": {
      "text/html": [
       "<div>\n",
       "<style>\n",
       "    .dataframe thead tr:only-child th {\n",
       "        text-align: right;\n",
       "    }\n",
       "\n",
       "    .dataframe thead th {\n",
       "        text-align: left;\n",
       "    }\n",
       "\n",
       "    .dataframe tbody tr th {\n",
       "        vertical-align: top;\n",
       "    }\n",
       "</style>\n",
       "<table border=\"1\" class=\"dataframe\">\n",
       "  <thead>\n",
       "    <tr style=\"text-align: right;\">\n",
       "      <th></th>\n",
       "      <th>id</th>\n",
       "      <th>text</th>\n",
       "      <th>sex</th>\n",
       "      <th>city</th>\n",
       "      <th>age</th>\n",
       "      <th>source</th>\n",
       "    </tr>\n",
       "  </thead>\n",
       "  <tbody>\n",
       "    <tr>\n",
       "      <th>0</th>\n",
       "      <td>371377313</td>\n",
       "      <td>🐺</td>\n",
       "      <td>1</td>\n",
       "      <td>1</td>\n",
       "      <td>21</td>\n",
       "      <td>1</td>\n",
       "    </tr>\n",
       "    <tr>\n",
       "      <th>1</th>\n",
       "      <td>180057341</td>\n",
       "      <td>Чем больше привычек, тем меньше свободы</td>\n",
       "      <td>2</td>\n",
       "      <td>1</td>\n",
       "      <td>23</td>\n",
       "      <td>1</td>\n",
       "    </tr>\n",
       "    <tr>\n",
       "      <th>2</th>\n",
       "      <td>360477702</td>\n",
       "      <td>vk.com/app4236781_360477702</td>\n",
       "      <td>1</td>\n",
       "      <td>1</td>\n",
       "      <td>27</td>\n",
       "      <td>1</td>\n",
       "    </tr>\n",
       "    <tr>\n",
       "      <th>3</th>\n",
       "      <td>275323909</td>\n",
       "      <td>Я тебя люблю, поэтому ревную и выпендриваюсь.</td>\n",
       "      <td>1</td>\n",
       "      <td>2</td>\n",
       "      <td>18</td>\n",
       "      <td>1</td>\n",
       "    </tr>\n",
       "    <tr>\n",
       "      <th>4</th>\n",
       "      <td>338504449</td>\n",
       "      <td>Добавляйтесь :*:*:*</td>\n",
       "      <td>1</td>\n",
       "      <td>1</td>\n",
       "      <td>24</td>\n",
       "      <td>1</td>\n",
       "    </tr>\n",
       "  </tbody>\n",
       "</table>\n",
       "</div>"
      ],
      "text/plain": [
       "          id                                           text  sex  city  age  \\\n",
       "0  371377313                                             🐺    1     1   21   \n",
       "1  180057341        Чем больше привычек, тем меньше свободы    2     1   23   \n",
       "2  360477702                    vk.com/app4236781_360477702    1     1   27   \n",
       "3  275323909  Я тебя люблю, поэтому ревную и выпендриваюсь.    1     2   18   \n",
       "4  338504449                            Добавляйтесь :*:*:*    1     1   24   \n",
       "\n",
       "   source  \n",
       "0       1  \n",
       "1       1  \n",
       "2       1  \n",
       "3       1  \n",
       "4       1  "
      ]
     },
     "execution_count": 2,
     "metadata": {},
     "output_type": "execute_result"
    }
   ],
   "source": [
    "df = pd.read_csv('vk-crawl.csv', sep=',')\n",
    "df = df.dropna()\n",
    "df = df[df['text'].str.contains('[a-zA-Zа-яА-Я]')]\n",
    "df = df.sample(frac=1).reset_index(drop=True)\n",
    "\n",
    "df.head()"
   ]
  },
  {
   "cell_type": "markdown",
   "metadata": {},
   "source": [
    "## Predict sex"
   ]
  },
  {
   "cell_type": "code",
   "execution_count": 4,
   "metadata": {},
   "outputs": [
    {
     "name": "stdout",
     "output_type": "stream",
     "text": [
      "Dataset size: 323074\n"
     ]
    }
   ],
   "source": [
    "idxs = []\n",
    "m = min(df['sex'].value_counts())\n",
    "for a in range(1,3):\n",
    "    idxs.extend(df.index[df['sex'] == a].tolist()[:m])\n",
    "dfs = df.loc[idxs]\n",
    "print('Dataset size: {}'.format(dfs.shape[0]))"
   ]
  },
  {
   "cell_type": "code",
   "execution_count": 5,
   "metadata": {},
   "outputs": [],
   "source": [
    "y = dfs['sex'].values - 1\n",
    "corpus = dfs['text'].values\n",
    "\n",
    "corpus_train, corpus_test, y_train, y_test = train_test_split(corpus, y, test_size=0.2, stratify=y)"
   ]
  },
  {
   "cell_type": "code",
   "execution_count": 94,
   "metadata": {},
   "outputs": [],
   "source": [
    "y_train_probas = []\n",
    "y_test_probas = []"
   ]
  },
  {
   "cell_type": "code",
   "execution_count": 95,
   "metadata": {},
   "outputs": [],
   "source": [
    "# word case\n",
    "vect = TfidfVectorizer(ngram_range=(1,4), min_df=3, analyzer='word')\n",
    "vect.fit(corpus_train)\n",
    "\n",
    "X_train = vect.transform(corpus_train)\n",
    "X_test = vect.transform(corpus_test)"
   ]
  },
  {
   "cell_type": "code",
   "execution_count": 97,
   "metadata": {},
   "outputs": [],
   "source": [
    "## Naive Bayes\n",
    "from sklearn.naive_bayes import MultinomialNB\n",
    "\n",
    "sex_predictor = MultinomialNB()\n",
    "sex_predictor.fit(X_train, y_train)\n",
    "\n",
    "y_train_probas.append(sex_predictor.predict_proba(X_train))\n",
    "y_test_probas.append(sex_predictor.predict_proba(X_test))\n",
    "\n",
    "y_train__ = sex_predictor.predict(X_train)\n",
    "y_test__ = sex_predictor.predict(X_test)"
   ]
  },
  {
   "cell_type": "code",
   "execution_count": 98,
   "metadata": {},
   "outputs": [
    {
     "name": "stdout",
     "output_type": "stream",
     "text": [
      "('Train', 0.72312823310467034)\n",
      "('Test', 0.63031803760736671)\n",
      "('Base mean', 0.50000773814129851)\n"
     ]
    }
   ],
   "source": [
    "print('Train', accuracy_score(y_train__, y_train))\n",
    "print('Test', accuracy_score(y_test__, y_test))\n",
    "print('Base mean', accuracy_score(np.full_like(y_test, 0), y_test))"
   ]
  },
  {
   "cell_type": "code",
   "execution_count": 99,
   "metadata": {},
   "outputs": [],
   "source": [
    "sex_predictor = LogisticRegression(C=1.0)\n",
    "sex_predictor.fit(X_train, y_train)\n",
    "\n",
    "y_train_probas.append(sex_predictor.predict_proba(X_train))\n",
    "y_test_probas.append(sex_predictor.predict_proba(X_test))\n",
    "\n",
    "y_train__ = sex_predictor.predict(X_train)\n",
    "y_test__ = sex_predictor.predict(X_test)"
   ]
  },
  {
   "cell_type": "code",
   "execution_count": 100,
   "metadata": {},
   "outputs": [],
   "source": [
    "inv_vocab = {v: k for k, v in vect.vocabulary_.items()}\n",
    "df_sex_demo = pd.DataFrame()\n",
    "df_sex_demo['F'] = [inv_vocab[i] for i in np.argsort(sex_predictor.coef_[0])[:20]] \n",
    "df_sex_demo['M'] = [inv_vocab[i] for i in np.argsort(sex_predictor.coef_[0])[-20:]]"
   ]
  },
  {
   "cell_type": "code",
   "execution_count": 101,
   "metadata": {},
   "outputs": [
    {
     "name": "stdout",
     "output_type": "stream",
     "text": [
      "('Train', 0.73138099272998813)\n",
      "('Test', 0.63330496014857229)\n",
      "('Base mean', 0.50000773814129851)\n"
     ]
    }
   ],
   "source": [
    "print('Train', accuracy_score(y_train__, y_train))\n",
    "print('Test', accuracy_score(y_test__, y_test))\n",
    "print('Base mean', accuracy_score(np.full_like(y_test, 0), y_test))"
   ]
  },
  {
   "cell_type": "code",
   "execution_count": 102,
   "metadata": {},
   "outputs": [],
   "source": [
    "# char case\n",
    "vect = TfidfVectorizer(ngram_range=(1,4), min_df=10, analyzer='char')\n",
    "vect.fit(corpus_train)\n",
    "\n",
    "X_train = vect.transform(corpus_train)\n",
    "X_test = vect.transform(corpus_test)"
   ]
  },
  {
   "cell_type": "code",
   "execution_count": 103,
   "metadata": {},
   "outputs": [],
   "source": [
    "sex_predictor = MultinomialNB(alpha=1e-5)\n",
    "sex_predictor.fit(X_train, y_train)\n",
    "\n",
    "y_train_probas.append(sex_predictor.predict_proba(X_train))\n",
    "y_test_probas.append(sex_predictor.predict_proba(X_test))\n",
    "\n",
    "y_train__ = sex_predictor.predict(X_train)\n",
    "y_test__ = sex_predictor.predict(X_test)"
   ]
  },
  {
   "cell_type": "code",
   "execution_count": 104,
   "metadata": {},
   "outputs": [
    {
     "name": "stdout",
     "output_type": "stream",
     "text": [
      "('Train', 0.6772176631496678)\n",
      "('Test', 0.64347287781474893)\n",
      "('Base mean', 0.50000773814129851)\n"
     ]
    }
   ],
   "source": [
    "print('Train', accuracy_score(y_train__, y_train))\n",
    "print('Test', accuracy_score(y_test__, y_test))\n",
    "print('Base mean', accuracy_score(np.full_like(y_test, 0), y_test))"
   ]
  },
  {
   "cell_type": "code",
   "execution_count": 105,
   "metadata": {},
   "outputs": [],
   "source": [
    "sex_predictor = LogisticRegression(C=1.0)\n",
    "sex_predictor.fit(X_train, y_train)\n",
    "\n",
    "y_train_probas.append(sex_predictor.predict_proba(X_train))\n",
    "y_test_probas.append(sex_predictor.predict_proba(X_test))\n",
    "\n",
    "y_train__ = sex_predictor.predict(X_train)\n",
    "y_test__ = sex_predictor.predict(X_test)"
   ]
  },
  {
   "cell_type": "code",
   "execution_count": 106,
   "metadata": {},
   "outputs": [
    {
     "name": "stdout",
     "output_type": "stream",
     "text": [
      "('Train', 0.72700892598052302)\n",
      "('Test', 0.66797183316567366)\n",
      "('Base mean', 0.50000773814129851)\n"
     ]
    }
   ],
   "source": [
    "print('Train', accuracy_score(y_train__, y_train))\n",
    "print('Test', accuracy_score(y_test__, y_test))\n",
    "print('Base mean', accuracy_score(np.full_like(y_test, 0), y_test))"
   ]
  },
  {
   "cell_type": "code",
   "execution_count": 183,
   "metadata": {},
   "outputs": [],
   "source": [
    "y_train__stacked = np.argmax(np.mean(np.c_[[y_train_probas[1], y_train_probas[-1]]], axis=0), axis=1)\n",
    "y_test__stacked = np.argmax(np.mean(np.c_[[y_test_probas[1], y_test_probas[-1]]], axis=0), axis=1)"
   ]
  },
  {
   "cell_type": "code",
   "execution_count": 184,
   "metadata": {
    "scrolled": true
   },
   "outputs": [
    {
     "name": "stdout",
     "output_type": "stream",
     "text": [
      "('Train', 0.76033336041693267)\n",
      "('Test', 0.67567902189893991)\n"
     ]
    }
   ],
   "source": [
    "print('Train', accuracy_score(y_train__stacked, y_train))\n",
    "print('Test', accuracy_score(y_test__stacked, y_test))"
   ]
  },
  {
   "cell_type": "code",
   "execution_count": 185,
   "metadata": {},
   "outputs": [
    {
     "data": {
      "text/html": [
       "<div>\n",
       "<style>\n",
       "    .dataframe thead tr:only-child th {\n",
       "        text-align: right;\n",
       "    }\n",
       "\n",
       "    .dataframe thead th {\n",
       "        text-align: left;\n",
       "    }\n",
       "\n",
       "    .dataframe tbody tr th {\n",
       "        vertical-align: top;\n",
       "    }\n",
       "</style>\n",
       "<table border=\"1\" class=\"dataframe\">\n",
       "  <thead>\n",
       "    <tr style=\"text-align: right;\">\n",
       "      <th></th>\n",
       "      <th>F</th>\n",
       "      <th>M</th>\n",
       "    </tr>\n",
       "  </thead>\n",
       "  <tbody>\n",
       "    <tr>\n",
       "      <th>0</th>\n",
       "      <td>счастлива</td>\n",
       "      <td>хоккей</td>\n",
       "    </tr>\n",
       "    <tr>\n",
       "      <th>1</th>\n",
       "      <td>рада</td>\n",
       "      <td>счастлив</td>\n",
       "    </tr>\n",
       "    <tr>\n",
       "      <th>2</th>\n",
       "      <td>счастливая</td>\n",
       "      <td>цска</td>\n",
       "    </tr>\n",
       "    <tr>\n",
       "      <th>3</th>\n",
       "      <td>счастливой</td>\n",
       "      <td>футбол</td>\n",
       "    </tr>\n",
       "    <tr>\n",
       "      <th>4</th>\n",
       "      <td>мальчики</td>\n",
       "      <td>влюблен</td>\n",
       "    </tr>\n",
       "    <tr>\n",
       "      <th>5</th>\n",
       "      <td>мужа</td>\n",
       "      <td>влюблён</td>\n",
       "    </tr>\n",
       "    <tr>\n",
       "      <th>6</th>\n",
       "      <td>наращивание</td>\n",
       "      <td>пацаны</td>\n",
       "    </tr>\n",
       "    <tr>\n",
       "      <th>7</th>\n",
       "      <td>парня</td>\n",
       "      <td>крут</td>\n",
       "    </tr>\n",
       "    <tr>\n",
       "      <th>8</th>\n",
       "      <td>замужем</td>\n",
       "      <td>стал</td>\n",
       "    </tr>\n",
       "    <tr>\n",
       "      <th>9</th>\n",
       "      <td>маникюр</td>\n",
       "      <td>свободен</td>\n",
       "    </tr>\n",
       "    <tr>\n",
       "      <th>10</th>\n",
       "      <td>сама</td>\n",
       "      <td>честь</td>\n",
       "    </tr>\n",
       "    <tr>\n",
       "      <th>11</th>\n",
       "      <td>одежда</td>\n",
       "      <td>люблю ее</td>\n",
       "    </tr>\n",
       "    <tr>\n",
       "      <th>12</th>\n",
       "      <td>стилист</td>\n",
       "      <td>ремонт</td>\n",
       "    </tr>\n",
       "    <tr>\n",
       "      <th>13</th>\n",
       "      <td>люблю его</td>\n",
       "      <td>ведущий</td>\n",
       "    </tr>\n",
       "    <tr>\n",
       "      <th>14</th>\n",
       "      <td>влюблена</td>\n",
       "      <td>уехал</td>\n",
       "    </tr>\n",
       "    <tr>\n",
       "      <th>15</th>\n",
       "      <td>свободна</td>\n",
       "      <td>девушку</td>\n",
       "    </tr>\n",
       "    <tr>\n",
       "      <th>16</th>\n",
       "      <td>ведущая</td>\n",
       "      <td>вернулся</td>\n",
       "    </tr>\n",
       "    <tr>\n",
       "      <th>17</th>\n",
       "      <td>женщина</td>\n",
       "      <td>женат</td>\n",
       "    </tr>\n",
       "    <tr>\n",
       "      <th>18</th>\n",
       "      <td>макияж</td>\n",
       "      <td>рад</td>\n",
       "    </tr>\n",
       "    <tr>\n",
       "      <th>19</th>\n",
       "      <td>любимый</td>\n",
       "      <td>жену</td>\n",
       "    </tr>\n",
       "  </tbody>\n",
       "</table>\n",
       "</div>"
      ],
      "text/plain": [
       "              F         M\n",
       "0     счастлива    хоккей\n",
       "1          рада  счастлив\n",
       "2    счастливая      цска\n",
       "3    счастливой    футбол\n",
       "4      мальчики   влюблен\n",
       "5          мужа   влюблён\n",
       "6   наращивание    пацаны\n",
       "7         парня      крут\n",
       "8       замужем      стал\n",
       "9       маникюр  свободен\n",
       "10         сама     честь\n",
       "11       одежда  люблю ее\n",
       "12      стилист    ремонт\n",
       "13    люблю его   ведущий\n",
       "14     влюблена     уехал\n",
       "15     свободна   девушку\n",
       "16      ведущая  вернулся\n",
       "17      женщина     женат\n",
       "18       макияж       рад\n",
       "19      любимый      жену"
      ]
     },
     "execution_count": 185,
     "metadata": {},
     "output_type": "execute_result"
    }
   ],
   "source": [
    "df_sex_demo.head(20)"
   ]
  },
  {
   "cell_type": "code",
   "execution_count": null,
   "metadata": {
    "collapsed": true
   },
   "outputs": [],
   "source": []
  },
  {
   "cell_type": "code",
   "execution_count": null,
   "metadata": {
    "collapsed": true
   },
   "outputs": [],
   "source": []
  },
  {
   "cell_type": "markdown",
   "metadata": {},
   "source": [
    "## Predict age"
   ]
  },
  {
   "cell_type": "code",
   "execution_count": 3,
   "metadata": {},
   "outputs": [],
   "source": [
    "def mean_absolute_percentage_error(y_true, y_pred):\n",
    "    y_true = y_true.astype('float32')\n",
    "    y_pred = y_pred.astype('float32')\n",
    "    return np.mean(np.abs((y_true - y_pred) / y_true))"
   ]
  },
  {
   "cell_type": "code",
   "execution_count": 4,
   "metadata": {},
   "outputs": [],
   "source": [
    "dfa = df"
   ]
  },
  {
   "cell_type": "code",
   "execution_count": 17,
   "metadata": {},
   "outputs": [],
   "source": [
    "y = dfa['age'].values\n",
    "corpus = dfa['text'].values\n",
    "\n",
    "corpus_train, corpus_test, y_train, y_test = train_test_split(corpus, y, test_size=0.2, stratify=y)"
   ]
  },
  {
   "cell_type": "code",
   "execution_count": 18,
   "metadata": {},
   "outputs": [],
   "source": [
    "# word case\n",
    "vect = TfidfVectorizer(ngram_range=(1, 2), min_df=10, analyzer='word')\n",
    "vect.fit(corpus_train)\n",
    "\n",
    "X_train = vect.transform(corpus_train)\n",
    "X_test = vect.transform(corpus_test)"
   ]
  },
  {
   "cell_type": "code",
   "execution_count": 19,
   "metadata": {},
   "outputs": [],
   "source": [
    "ros = RandomOverSampler(random_state=0)\n",
    "X_train_res, y_train_res = ros.fit_sample(X_train, y_train)"
   ]
  },
  {
   "cell_type": "code",
   "execution_count": 20,
   "metadata": {},
   "outputs": [
    {
     "data": {
      "text/plain": [
       "Ridge(alpha=8.0, copy_X=True, fit_intercept=True, max_iter=None,\n",
       "   normalize=False, random_state=None, solver='auto', tol=0.001)"
      ]
     },
     "execution_count": 20,
     "metadata": {},
     "output_type": "execute_result"
    }
   ],
   "source": [
    "age_predictor = linear_model.Ridge(alpha = 8.0)\n",
    "age_predictor.fit(X_train_res, y_train_res)"
   ]
  },
  {
   "cell_type": "code",
   "execution_count": 21,
   "metadata": {},
   "outputs": [],
   "source": [
    "y_train__ = age_predictor.predict(X_train_res)\n",
    "y_test__ = age_predictor.predict(X_test)"
   ]
  },
  {
   "cell_type": "code",
   "execution_count": 22,
   "metadata": {},
   "outputs": [],
   "source": [
    "inv_vocab = {v: k for k, v in vect.vocabulary_.items()}\n",
    "df_age_demo = pd.DataFrame()\n",
    "df_age_demo['Min Age'] = [inv_vocab[i] for i in np.argsort(age_predictor.coef_)[:20]] \n",
    "df_age_demo['Max Age'] = [inv_vocab[i] for i in np.argsort(age_predictor.coef_)[-20:]]"
   ]
  },
  {
   "cell_type": "code",
   "execution_count": 23,
   "metadata": {},
   "outputs": [],
   "source": [
    "y_train__raw_word = age_predictor.predict(X_train_res)\n",
    "y_test__raw_word =  age_predictor.predict(X_test)"
   ]
  },
  {
   "cell_type": "code",
   "execution_count": 24,
   "metadata": {},
   "outputs": [
    {
     "name": "stdout",
     "output_type": "stream",
     "text": [
      "('Train', 5.3492191828784401)\n",
      "('Test', 5.5179414695853524)\n",
      "('Base mean', 6.1123908244553222)\n"
     ]
    }
   ],
   "source": [
    "print('Train', mean_absolute_error(y_train__, y_train_res))\n",
    "print('Test', mean_absolute_error(y_test__, y_test))\n",
    "print('Base mean', mean_absolute_error(np.full_like(y_test, np.mean(y_train_res)), y_test))"
   ]
  },
  {
   "cell_type": "code",
   "execution_count": 25,
   "metadata": {},
   "outputs": [],
   "source": [
    "# char case\n",
    "vect = TfidfVectorizer(ngram_range=(1,4), min_df=10, analyzer='char')\n",
    "vect.fit(corpus_train)\n",
    "\n",
    "X_train = vect.transform(corpus_train)\n",
    "X_test = vect.transform(corpus_test)"
   ]
  },
  {
   "cell_type": "code",
   "execution_count": 26,
   "metadata": {},
   "outputs": [],
   "source": [
    "ros = RandomOverSampler(random_state=0)\n",
    "X_train, y_train = ros.fit_sample(X_train, y_train)"
   ]
  },
  {
   "cell_type": "code",
   "execution_count": 27,
   "metadata": {},
   "outputs": [
    {
     "data": {
      "text/plain": [
       "Ridge(alpha=5.0, copy_X=True, fit_intercept=True, max_iter=None,\n",
       "   normalize=False, random_state=None, solver='auto', tol=0.001)"
      ]
     },
     "execution_count": 27,
     "metadata": {},
     "output_type": "execute_result"
    }
   ],
   "source": [
    "age_predictor = linear_model.Ridge(alpha = 5.0)\n",
    "age_predictor.fit(X_train, y_train)"
   ]
  },
  {
   "cell_type": "code",
   "execution_count": 28,
   "metadata": {},
   "outputs": [],
   "source": [
    "y_train__ = age_predictor.predict(X_train)\n",
    "y_test__ = age_predictor.predict(X_test)"
   ]
  },
  {
   "cell_type": "code",
   "execution_count": 29,
   "metadata": {},
   "outputs": [],
   "source": [
    "y_train__raw_char = age_predictor.predict(X_train)\n",
    "y_test__raw_char = age_predictor.predict(X_test)"
   ]
  },
  {
   "cell_type": "code",
   "execution_count": 30,
   "metadata": {},
   "outputs": [
    {
     "name": "stdout",
     "output_type": "stream",
     "text": [
      "('Train', 5.0005220229158116)\n",
      "('Test', 5.2847301352748017)\n",
      "('Base mean', 6.1123908244553222)\n"
     ]
    }
   ],
   "source": [
    "print('Train', mean_absolute_error(y_train__, y_train))\n",
    "print('Test', mean_absolute_error(y_test__, y_test))\n",
    "print('Base mean', mean_absolute_error(np.full_like(y_test__, np.mean(y_train)), y_test))"
   ]
  },
  {
   "cell_type": "code",
   "execution_count": 31,
   "metadata": {},
   "outputs": [],
   "source": [
    "y_train__stacked = (y_train__raw_char + y_train__raw_word) / 2.0\n",
    "y_train__stacked = (y_train__stacked)\n",
    "y_test__stacked = (y_test__raw_char + y_test__raw_word) / 2.0\n",
    "y_test__stacked = (y_test__stacked)"
   ]
  },
  {
   "cell_type": "code",
   "execution_count": 32,
   "metadata": {},
   "outputs": [
    {
     "name": "stdout",
     "output_type": "stream",
     "text": [
      "('Train', 5.1211978653222348)\n",
      "('Test', 5.3405843895835794)\n"
     ]
    }
   ],
   "source": [
    "print('Train', mean_absolute_error(y_train__stacked, y_train))\n",
    "print('Test', mean_absolute_error(y_test__stacked, y_test))"
   ]
  },
  {
   "cell_type": "code",
   "execution_count": 33,
   "metadata": {},
   "outputs": [
    {
     "data": {
      "text/html": [
       "<div>\n",
       "<style>\n",
       "    .dataframe thead tr:only-child th {\n",
       "        text-align: right;\n",
       "    }\n",
       "\n",
       "    .dataframe thead th {\n",
       "        text-align: left;\n",
       "    }\n",
       "\n",
       "    .dataframe tbody tr th {\n",
       "        vertical-align: top;\n",
       "    }\n",
       "</style>\n",
       "<table border=\"1\" class=\"dataframe\">\n",
       "  <thead>\n",
       "    <tr style=\"text-align: right;\">\n",
       "      <th></th>\n",
       "      <th>Min Age</th>\n",
       "      <th>Max Age</th>\n",
       "    </tr>\n",
       "  </thead>\n",
       "  <tbody>\n",
       "    <tr>\n",
       "      <th>0</th>\n",
       "      <td>инст</td>\n",
       "      <td>женщина</td>\n",
       "    </tr>\n",
       "    <tr>\n",
       "      <th>1</th>\n",
       "      <td>аниме</td>\n",
       "      <td>господи</td>\n",
       "    </tr>\n",
       "    <tr>\n",
       "      <th>2</th>\n",
       "      <td>не кто</td>\n",
       "      <td>инструктор</td>\n",
       "    </tr>\n",
       "    <tr>\n",
       "      <th>3</th>\n",
       "      <td>не когда</td>\n",
       "      <td>партнеров</td>\n",
       "    </tr>\n",
       "    <tr>\n",
       "      <th>4</th>\n",
       "      <td>крутая</td>\n",
       "      <td>консультации</td>\n",
       "    </tr>\n",
       "    <tr>\n",
       "      <th>5</th>\n",
       "      <td>inst</td>\n",
       "      <td>хорошая но</td>\n",
       "    </tr>\n",
       "    <tr>\n",
       "      <th>6</th>\n",
       "      <td>ребят</td>\n",
       "      <td>olga</td>\n",
       "    </tr>\n",
       "    <tr>\n",
       "      <th>7</th>\n",
       "      <td>некогда не</td>\n",
       "      <td>светлана</td>\n",
       "    </tr>\n",
       "    <tr>\n",
       "      <th>8</th>\n",
       "      <td>не чего</td>\n",
       "      <td>относись</td>\n",
       "    </tr>\n",
       "    <tr>\n",
       "      <th>9</th>\n",
       "      <td>по вам</td>\n",
       "      <td>гадание</td>\n",
       "    </tr>\n",
       "    <tr>\n",
       "      <th>10</th>\n",
       "      <td>люблю всех</td>\n",
       "      <td>женат</td>\n",
       "    </tr>\n",
       "    <tr>\n",
       "      <th>11</th>\n",
       "      <td>кто играет</td>\n",
       "      <td>авторская</td>\n",
       "    </tr>\n",
       "    <tr>\n",
       "      <th>12</th>\n",
       "      <td>игнор</td>\n",
       "      <td>замужем</td>\n",
       "    </tr>\n",
       "    <tr>\n",
       "      <th>13</th>\n",
       "      <td>парня</td>\n",
       "      <td>елена</td>\n",
       "    </tr>\n",
       "    <tr>\n",
       "      <th>14</th>\n",
       "      <td>паркур</td>\n",
       "      <td>ирина</td>\n",
       "    </tr>\n",
       "    <tr>\n",
       "      <th>15</th>\n",
       "      <td>урод</td>\n",
       "      <td>новым друзьям</td>\n",
       "    </tr>\n",
       "    <tr>\n",
       "      <th>16</th>\n",
       "      <td>ревность</td>\n",
       "      <td>бабушка</td>\n",
       "    </tr>\n",
       "    <tr>\n",
       "      <th>17</th>\n",
       "      <td>13 лет</td>\n",
       "      <td>татьяна</td>\n",
       "    </tr>\n",
       "    <tr>\n",
       "      <th>18</th>\n",
       "      <td>15 лет</td>\n",
       "      <td>наталья</td>\n",
       "    </tr>\n",
       "    <tr>\n",
       "      <th>19</th>\n",
       "      <td>умру</td>\n",
       "      <td>лариса</td>\n",
       "    </tr>\n",
       "  </tbody>\n",
       "</table>\n",
       "</div>"
      ],
      "text/plain": [
       "       Min Age        Max Age\n",
       "0         инст        женщина\n",
       "1        аниме        господи\n",
       "2       не кто     инструктор\n",
       "3     не когда      партнеров\n",
       "4       крутая   консультации\n",
       "5         inst     хорошая но\n",
       "6        ребят           olga\n",
       "7   некогда не       светлана\n",
       "8      не чего       относись\n",
       "9       по вам        гадание\n",
       "10  люблю всех          женат\n",
       "11  кто играет      авторская\n",
       "12       игнор        замужем\n",
       "13       парня          елена\n",
       "14      паркур          ирина\n",
       "15        урод  новым друзьям\n",
       "16    ревность        бабушка\n",
       "17      13 лет        татьяна\n",
       "18      15 лет        наталья\n",
       "19        умру         лариса"
      ]
     },
     "execution_count": 33,
     "metadata": {},
     "output_type": "execute_result"
    }
   ],
   "source": [
    "df_age_demo.head(20)"
   ]
  },
  {
   "cell_type": "code",
   "execution_count": null,
   "metadata": {
    "collapsed": true
   },
   "outputs": [],
   "source": []
  },
  {
   "cell_type": "code",
   "execution_count": null,
   "metadata": {
    "collapsed": true
   },
   "outputs": [],
   "source": []
  }
 ],
 "metadata": {
  "kernelspec": {
   "display_name": "Python 3",
   "language": "python",
   "name": "python3"
  },
  "language_info": {
   "codemirror_mode": {
    "name": "ipython",
    "version": 2
   },
   "file_extension": ".py",
   "mimetype": "text/x-python",
   "name": "python",
   "nbconvert_exporter": "python",
   "pygments_lexer": "ipython2",
   "version": "2.7.10"
  }
 },
 "nbformat": 4,
 "nbformat_minor": 2
}
