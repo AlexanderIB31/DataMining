{
 "cells": [
  {
   "cell_type": "code",
   "execution_count": 1,
   "metadata": {},
   "outputs": [],
   "source": [
    "import pandas as pd\n",
    "import numpy as np\n",
    "\n",
    "from sklearn.feature_extraction.text import CountVectorizer, TfidfVectorizer\n",
    "from sklearn.linear_model import LogisticRegression\n",
    "from sklearn.metrics import accuracy_score\n",
    "from sklearn.metrics import mean_absolute_error\n",
    "from sklearn.metrics import mean_squared_error\n",
    "from sklearn import linear_model"
   ]
  },
  {
   "cell_type": "markdown",
   "metadata": {},
   "source": [
    "## Load data"
   ]
  },
  {
   "cell_type": "code",
   "execution_count": 2,
   "metadata": {},
   "outputs": [
    {
     "data": {
      "text/html": [
       "<div>\n",
       "<style>\n",
       "    .dataframe thead tr:only-child th {\n",
       "        text-align: right;\n",
       "    }\n",
       "\n",
       "    .dataframe thead th {\n",
       "        text-align: left;\n",
       "    }\n",
       "\n",
       "    .dataframe tbody tr th {\n",
       "        vertical-align: top;\n",
       "    }\n",
       "</style>\n",
       "<table border=\"1\" class=\"dataframe\">\n",
       "  <thead>\n",
       "    <tr style=\"text-align: right;\">\n",
       "      <th></th>\n",
       "      <th>id</th>\n",
       "      <th>text</th>\n",
       "      <th>sex</th>\n",
       "      <th>city</th>\n",
       "      <th>age</th>\n",
       "      <th>source</th>\n",
       "    </tr>\n",
       "  </thead>\n",
       "  <tbody>\n",
       "    <tr>\n",
       "      <th>0</th>\n",
       "      <td>28888394</td>\n",
       "      <td>Хэлпабудетсёня? Σ ▼▲</td>\n",
       "      <td>2</td>\n",
       "      <td>1</td>\n",
       "      <td>21</td>\n",
       "      <td>1</td>\n",
       "    </tr>\n",
       "    <tr>\n",
       "      <th>1</th>\n",
       "      <td>8075277</td>\n",
       "      <td>Один из главных признаков счастья и гармонии -...</td>\n",
       "      <td>1</td>\n",
       "      <td>2</td>\n",
       "      <td>35</td>\n",
       "      <td>1</td>\n",
       "    </tr>\n",
       "    <tr>\n",
       "      <th>2</th>\n",
       "      <td>166835532</td>\n",
       "      <td>кому нужен админ пишите в ЛС)</td>\n",
       "      <td>2</td>\n",
       "      <td>2</td>\n",
       "      <td>27</td>\n",
       "      <td>1</td>\n",
       "    </tr>\n",
       "    <tr>\n",
       "      <th>3</th>\n",
       "      <td>253434067</td>\n",
       "      <td>Тхэквондо. Кикбоксинг. клуб единоборств Легион...</td>\n",
       "      <td>2</td>\n",
       "      <td>1</td>\n",
       "      <td>38</td>\n",
       "      <td>1</td>\n",
       "    </tr>\n",
       "    <tr>\n",
       "      <th>4</th>\n",
       "      <td>411487814</td>\n",
       "      <td>Сеть стоматологических клиник | Москва | м. Ор...</td>\n",
       "      <td>2</td>\n",
       "      <td>1</td>\n",
       "      <td>35</td>\n",
       "      <td>1</td>\n",
       "    </tr>\n",
       "  </tbody>\n",
       "</table>\n",
       "</div>"
      ],
      "text/plain": [
       "          id                                               text  sex  city  \\\n",
       "0   28888394                               Хэлпабудетсёня? Σ ▼▲    2     1   \n",
       "1    8075277  Один из главных признаков счастья и гармонии -...    1     2   \n",
       "2  166835532                      кому нужен админ пишите в ЛС)    2     2   \n",
       "3  253434067  Тхэквондо. Кикбоксинг. клуб единоборств Легион...    2     1   \n",
       "4  411487814  Сеть стоматологических клиник | Москва | м. Ор...    2     1   \n",
       "\n",
       "   age  source  \n",
       "0   21       1  \n",
       "1   35       1  \n",
       "2   27       1  \n",
       "3   38       1  \n",
       "4   35       1  "
      ]
     },
     "execution_count": 2,
     "metadata": {},
     "output_type": "execute_result"
    }
   ],
   "source": [
    "df = pd.read_csv('vk-crawl.csv', sep=',')\n",
    "df = df.dropna()\n",
    "df = df[df['text'].str.contains('[a-zA-Zа-яА-Я]')]\n",
    "df = df.sample(frac=1).reset_index(drop=True)\n",
    "\n",
    "df.head()"
   ]
  },
  {
   "cell_type": "markdown",
   "metadata": {},
   "source": [
    "## Predict sex"
   ]
  },
  {
   "cell_type": "code",
   "execution_count": 3,
   "metadata": {},
   "outputs": [
    {
     "name": "stdout",
     "output_type": "stream",
     "text": [
      "Dataset size: 323074\n"
     ]
    }
   ],
   "source": [
    "idxs = []\n",
    "m = min(df['sex'].value_counts())\n",
    "for a in range(1,3):\n",
    "    idxs.extend(df.index[df['sex'] == a].tolist()[:m])\n",
    "dfs = df.loc[idxs]\n",
    "print('Dataset size: {}'.format(dfs.shape[0]))"
   ]
  },
  {
   "cell_type": "code",
   "execution_count": 4,
   "metadata": {},
   "outputs": [],
   "source": [
    "from sklearn.model_selection import train_test_split\n",
    "\n",
    "y = dfs['sex'].values - 1\n",
    "corpus = dfs['text'].values\n",
    "\n",
    "corpus_train, corpus_test, y_train, y_test = train_test_split(corpus, y, test_size=0.2, stratify=y)"
   ]
  },
  {
   "cell_type": "code",
   "execution_count": 5,
   "metadata": {},
   "outputs": [],
   "source": [
    "# word case\n",
    "vect = TfidfVectorizer(ngram_range=(1,4), min_df=3, analyzer='word')\n",
    "vect.fit(corpus_train)\n",
    "\n",
    "X_train = vect.transform(corpus_train)\n",
    "X_test = vect.transform(corpus_test)\n",
    "\n",
    "sex_predictor = LogisticRegression(C=1.0)\n",
    "sex_predictor.fit(X_train, y_train)\n",
    "\n",
    "y_train__ = sex_predictor.predict(X_train)\n",
    "y_test__ = sex_predictor.predict(X_test)"
   ]
  },
  {
   "cell_type": "code",
   "execution_count": 6,
   "metadata": {},
   "outputs": [],
   "source": [
    "inv_vocab = {v: k for k, v in vect.vocabulary_.items()}\n",
    "df_sex_demo = pd.DataFrame()\n",
    "df_sex_demo['F'] = [inv_vocab[i] for i in np.argsort(sex_predictor.coef_[0])[:20]] \n",
    "df_sex_demo['M'] = [inv_vocab[i] for i in np.argsort(sex_predictor.coef_[0])[-20:]]"
   ]
  },
  {
   "cell_type": "code",
   "execution_count": 7,
   "metadata": {},
   "outputs": [],
   "source": [
    "y_train__raw_word = sex_predictor.decision_function(X_train)\n",
    "y_test__raw_word =  sex_predictor.decision_function(X_test)"
   ]
  },
  {
   "cell_type": "code",
   "execution_count": 8,
   "metadata": {},
   "outputs": [
    {
     "name": "stdout",
     "output_type": "stream",
     "text": [
      "('Train', 0.73069229548980685)\n",
      "('Test', 0.63240733575795094)\n",
      "('Base mean', 0.50000773814129851)\n"
     ]
    }
   ],
   "source": [
    "print('Train', accuracy_score(y_train__, y_train))\n",
    "print('Test', accuracy_score(y_test__, y_test))\n",
    "print('Base mean', accuracy_score(np.full_like(y_test, 0), y_test))"
   ]
  },
  {
   "cell_type": "code",
   "execution_count": 9,
   "metadata": {},
   "outputs": [],
   "source": [
    "# char case\n",
    "vect = TfidfVectorizer(ngram_range=(1,4), min_df=10, analyzer='char')\n",
    "vect.fit(corpus_train)\n",
    "\n",
    "X_train = vect.transform(corpus_train)\n",
    "X_test = vect.transform(corpus_test)\n",
    "\n",
    "sex_predictor = LogisticRegression(C=1.0)\n",
    "sex_predictor.fit(X_train, y_train)\n",
    "\n",
    "y_train__ = sex_predictor.predict(X_train)\n",
    "y_test__ = sex_predictor.predict(X_test)"
   ]
  },
  {
   "cell_type": "code",
   "execution_count": 10,
   "metadata": {},
   "outputs": [],
   "source": [
    "y_train__raw_char = sex_predictor.decision_function(X_train)\n",
    "y_test__raw_char =  sex_predictor.decision_function(X_test)"
   ]
  },
  {
   "cell_type": "code",
   "execution_count": 11,
   "metadata": {},
   "outputs": [
    {
     "name": "stdout",
     "output_type": "stream",
     "text": [
      "('Train', 0.72653302844938661)\n",
      "('Test', 0.66820397740462745)\n",
      "('Base mean', 0.50000773814129851)\n"
     ]
    }
   ],
   "source": [
    "print('Train', accuracy_score(y_train__, y_train))\n",
    "print('Test', accuracy_score(y_test__, y_test))\n",
    "print('Base mean', accuracy_score(np.full_like(y_test, 0), y_test))"
   ]
  },
  {
   "cell_type": "code",
   "execution_count": 12,
   "metadata": {},
   "outputs": [],
   "source": [
    "y_train__stacked = np.heaviside(y_train__raw_char + y_train__raw_word, 0)\n",
    "y_test__stacked = np.heaviside(y_test__raw_char + y_test__raw_word, 0)"
   ]
  },
  {
   "cell_type": "code",
   "execution_count": 13,
   "metadata": {
    "scrolled": true
   },
   "outputs": [
    {
     "name": "stdout",
     "output_type": "stream",
     "text": [
      "('Train', 0.75934674358408882)\n",
      "('Test', 0.67662307513735198)\n"
     ]
    }
   ],
   "source": [
    "print('Train', accuracy_score(y_train__stacked, y_train))\n",
    "print('Test', accuracy_score(y_test__stacked, y_test))"
   ]
  },
  {
   "cell_type": "code",
   "execution_count": 14,
   "metadata": {},
   "outputs": [
    {
     "data": {
      "text/html": [
       "<div>\n",
       "<style>\n",
       "    .dataframe thead tr:only-child th {\n",
       "        text-align: right;\n",
       "    }\n",
       "\n",
       "    .dataframe thead th {\n",
       "        text-align: left;\n",
       "    }\n",
       "\n",
       "    .dataframe tbody tr th {\n",
       "        vertical-align: top;\n",
       "    }\n",
       "</style>\n",
       "<table border=\"1\" class=\"dataframe\">\n",
       "  <thead>\n",
       "    <tr style=\"text-align: right;\">\n",
       "      <th></th>\n",
       "      <th>F</th>\n",
       "      <th>M</th>\n",
       "    </tr>\n",
       "  </thead>\n",
       "  <tbody>\n",
       "    <tr>\n",
       "      <th>0</th>\n",
       "      <td>счастлива</td>\n",
       "      <td>влюблен</td>\n",
       "    </tr>\n",
       "    <tr>\n",
       "      <th>1</th>\n",
       "      <td>рада</td>\n",
       "      <td>крут</td>\n",
       "    </tr>\n",
       "    <tr>\n",
       "      <th>2</th>\n",
       "      <td>счастливая</td>\n",
       "      <td>зенит</td>\n",
       "    </tr>\n",
       "    <tr>\n",
       "      <th>3</th>\n",
       "      <td>мужа</td>\n",
       "      <td>брат</td>\n",
       "    </tr>\n",
       "    <tr>\n",
       "      <th>4</th>\n",
       "      <td>счастливой</td>\n",
       "      <td>хоккей</td>\n",
       "    </tr>\n",
       "    <tr>\n",
       "      <th>5</th>\n",
       "      <td>замужем</td>\n",
       "      <td>ремонт</td>\n",
       "    </tr>\n",
       "    <tr>\n",
       "      <th>6</th>\n",
       "      <td>парня</td>\n",
       "      <td>крутой</td>\n",
       "    </tr>\n",
       "    <tr>\n",
       "      <th>7</th>\n",
       "      <td>маникюр</td>\n",
       "      <td>уверен</td>\n",
       "    </tr>\n",
       "    <tr>\n",
       "      <th>8</th>\n",
       "      <td>наращивание</td>\n",
       "      <td>отец</td>\n",
       "    </tr>\n",
       "    <tr>\n",
       "      <th>9</th>\n",
       "      <td>мальчики</td>\n",
       "      <td>стал</td>\n",
       "    </tr>\n",
       "    <tr>\n",
       "      <th>10</th>\n",
       "      <td>мамой</td>\n",
       "      <td>футбол</td>\n",
       "    </tr>\n",
       "    <tr>\n",
       "      <th>11</th>\n",
       "      <td>влюблена</td>\n",
       "      <td>свободен</td>\n",
       "    </tr>\n",
       "    <tr>\n",
       "      <th>12</th>\n",
       "      <td>женщина</td>\n",
       "      <td>вернулся</td>\n",
       "    </tr>\n",
       "    <tr>\n",
       "      <th>13</th>\n",
       "      <td>стилист</td>\n",
       "      <td>ведущий</td>\n",
       "    </tr>\n",
       "    <tr>\n",
       "      <th>14</th>\n",
       "      <td>ведущая</td>\n",
       "      <td>уехал</td>\n",
       "    </tr>\n",
       "    <tr>\n",
       "      <th>15</th>\n",
       "      <td>вернулась</td>\n",
       "      <td>люблю ее</td>\n",
       "    </tr>\n",
       "    <tr>\n",
       "      <th>16</th>\n",
       "      <td>люблю его</td>\n",
       "      <td>девушку</td>\n",
       "    </tr>\n",
       "    <tr>\n",
       "      <th>17</th>\n",
       "      <td>любимый</td>\n",
       "      <td>рад</td>\n",
       "    </tr>\n",
       "    <tr>\n",
       "      <th>18</th>\n",
       "      <td>хотела</td>\n",
       "      <td>жену</td>\n",
       "    </tr>\n",
       "    <tr>\n",
       "      <th>19</th>\n",
       "      <td>счастье</td>\n",
       "      <td>женат</td>\n",
       "    </tr>\n",
       "  </tbody>\n",
       "</table>\n",
       "</div>"
      ],
      "text/plain": [
       "              F         M\n",
       "0     счастлива   влюблен\n",
       "1          рада      крут\n",
       "2    счастливая     зенит\n",
       "3          мужа      брат\n",
       "4    счастливой    хоккей\n",
       "5       замужем    ремонт\n",
       "6         парня    крутой\n",
       "7       маникюр    уверен\n",
       "8   наращивание      отец\n",
       "9      мальчики      стал\n",
       "10        мамой    футбол\n",
       "11     влюблена  свободен\n",
       "12      женщина  вернулся\n",
       "13      стилист   ведущий\n",
       "14      ведущая     уехал\n",
       "15    вернулась  люблю ее\n",
       "16    люблю его   девушку\n",
       "17      любимый       рад\n",
       "18       хотела      жену\n",
       "19      счастье     женат"
      ]
     },
     "execution_count": 14,
     "metadata": {},
     "output_type": "execute_result"
    }
   ],
   "source": [
    "df_sex_demo.head(20)"
   ]
  },
  {
   "cell_type": "code",
   "execution_count": null,
   "metadata": {
    "collapsed": true
   },
   "outputs": [],
   "source": []
  },
  {
   "cell_type": "code",
   "execution_count": null,
   "metadata": {
    "collapsed": true
   },
   "outputs": [],
   "source": []
  },
  {
   "cell_type": "markdown",
   "metadata": {},
   "source": [
    "## Predict age"
   ]
  },
  {
   "cell_type": "code",
   "execution_count": 232,
   "metadata": {},
   "outputs": [],
   "source": [
    "def mean_absolute_percentage_error(y_true, y_pred):\n",
    "    y_true = y_true.astype('float32')\n",
    "    y_pred = y_pred.astype('float32')\n",
    "    return np.mean(np.abs((y_true - y_pred) / y_true))"
   ]
  },
  {
   "cell_type": "code",
   "execution_count": 328,
   "metadata": {},
   "outputs": [],
   "source": [
    "# vac = df['age'].value_counts().sort_index()\n",
    "# Ns = vac.values\n",
    "# As = vac.index.values\n",
    "\n",
    "# rho = (Ns * As).min()\n",
    "# clips = rho / As\n",
    "# age_clip = np.c_[As, clips]"
   ]
  },
  {
   "cell_type": "code",
   "execution_count": 329,
   "metadata": {},
   "outputs": [
    {
     "name": "stdout",
     "output_type": "stream",
     "text": [
      "Dataset size: 159746\n"
     ]
    }
   ],
   "source": [
    "# idxs = []\n",
    "# for age, clip in age_clip:\n",
    "#     idxs.extend(df.index[df['age'] == age].tolist()[:clip])\n",
    "# dfa = df.loc[idxs]\n",
    "# print('Dataset size: {}'.format(dfa.shape[0]))"
   ]
  },
  {
   "cell_type": "code",
   "execution_count": 371,
   "metadata": {},
   "outputs": [
    {
     "name": "stdout",
     "output_type": "stream",
     "text": [
      "Dataset size: 103975\n"
     ]
    }
   ],
   "source": [
    "idxs = []\n",
    "m = df['age'].value_counts().values.min()\n",
    "for age in df['age'].unique():\n",
    "    idxs.extend(df.index[df['age'] == age].tolist()[:m])\n",
    "dfa = df.loc[idxs]\n",
    "print('Dataset size: {}'.format(dfa.shape[0]))"
   ]
  },
  {
   "cell_type": "code",
   "execution_count": 372,
   "metadata": {},
   "outputs": [],
   "source": [
    "y = dfa['age'].values\n",
    "corpus = dfa['text'].values\n",
    "\n",
    "corpus_train, corpus_test, y_train, y_test = train_test_split(corpus, y, test_size=0.2, stratify=y)"
   ]
  },
  {
   "cell_type": "code",
   "execution_count": 380,
   "metadata": {},
   "outputs": [
    {
     "data": {
      "text/plain": [
       "Ridge(alpha=5.0, copy_X=True, fit_intercept=True, max_iter=None,\n",
       "   normalize=False, random_state=None, solver='auto', tol=0.001)"
      ]
     },
     "execution_count": 380,
     "metadata": {},
     "output_type": "execute_result"
    }
   ],
   "source": [
    "# word case\n",
    "vect = TfidfVectorizer(ngram_range=(1, 2), min_df=10, analyzer='word')\n",
    "vect.fit(corpus_train)\n",
    "\n",
    "X_train = vect.transform(corpus_train)\n",
    "X_test = vect.transform(corpus_test)\n",
    "\n",
    "# n = np.bincount(y_test)[16:].min()\n",
    "# mask = np.hstack([np.random.choice(np.where(y_test == l)[0], n, replace=False)\n",
    "#                       for l in np.unique(y_test)])\n",
    "# X_test = X_test[mask, :]\n",
    "# y_test = y_test[mask]\n",
    "\n",
    "age_predictor = linear_model.Ridge(alpha = 5.0)\n",
    "# age_predictor.fit(X_train, np.log(y_train))\n",
    "age_predictor.fit(X_train, y_train)"
   ]
  },
  {
   "cell_type": "code",
   "execution_count": 381,
   "metadata": {},
   "outputs": [],
   "source": [
    "# y_train__ = np.exp(age_predictor.predict(X_train))\n",
    "# y_test__ = np.exp(age_predictor.predict(X_test))\n",
    "\n",
    "y_train__ = age_predictor.predict(X_train)\n",
    "y_test__ = age_predictor.predict(X_test)"
   ]
  },
  {
   "cell_type": "code",
   "execution_count": 382,
   "metadata": {},
   "outputs": [],
   "source": [
    "inv_vocab = {v: k for k, v in vect.vocabulary_.items()}\n",
    "df_age_demo = pd.DataFrame()\n",
    "df_age_demo['Min Age'] = [inv_vocab[i] for i in np.argsort(age_predictor.coef_)[:20]] \n",
    "df_age_demo['Max Age'] = [inv_vocab[i] for i in np.argsort(age_predictor.coef_)[-20:]]"
   ]
  },
  {
   "cell_type": "code",
   "execution_count": 383,
   "metadata": {},
   "outputs": [],
   "source": [
    "y_train__raw_word = age_predictor.predict(X_train)\n",
    "y_test__raw_word =  age_predictor.predict(X_test)"
   ]
  },
  {
   "cell_type": "code",
   "execution_count": 384,
   "metadata": {},
   "outputs": [
    {
     "name": "stdout",
     "output_type": "stream",
     "text": [
      "('Train', 42.366005601333747)\n",
      "('Test', 46.254127450659219)\n",
      "('Base mean', 51.994517912959843)\n"
     ]
    }
   ],
   "source": [
    "print('Train', mean_squared_error(y_train__, y_train))\n",
    "print('Test', mean_squared_error(y_test__, y_test))\n",
    "base_mean = np.median(np.unique(y_train))\n",
    "print('Base mean', mean_squared_error(np.full_like(y_test, 28), y_test))"
   ]
  },
  {
   "cell_type": "code",
   "execution_count": 402,
   "metadata": {},
   "outputs": [
    {
     "data": {
      "text/plain": [
       "Ridge(alpha=5.0, copy_X=True, fit_intercept=True, max_iter=None,\n",
       "   normalize=False, random_state=None, solver='auto', tol=0.001)"
      ]
     },
     "execution_count": 402,
     "metadata": {},
     "output_type": "execute_result"
    }
   ],
   "source": [
    "# char case\n",
    "vect = TfidfVectorizer(ngram_range=(1,4), min_df=10, analyzer='char')\n",
    "vect.fit(corpus_train)\n",
    "\n",
    "X_train = vect.transform(corpus_train)\n",
    "X_test = vect.transform(corpus_test)\n",
    "\n",
    "# age_predictor = LinearRegression()\n",
    "age_predictor = linear_model.Ridge(alpha = 5.0)\n",
    "# age_predictor.fit(X_train, np.log(y_train))\n",
    "age_predictor.fit(X_train, y_train)"
   ]
  },
  {
   "cell_type": "code",
   "execution_count": 403,
   "metadata": {},
   "outputs": [],
   "source": [
    "# y_train__ = np.exp(age_predictor.predict(X_train))\n",
    "# y_test__ = np.exp(age_predictor.predict(X_test))\n",
    "\n",
    "y_train__ = age_predictor.predict(X_train)\n",
    "y_test__ = age_predictor.predict(X_test)"
   ]
  },
  {
   "cell_type": "code",
   "execution_count": 404,
   "metadata": {},
   "outputs": [],
   "source": [
    "y_train__raw_char = age_predictor.predict(X_train)\n",
    "y_test__raw_char = age_predictor.predict(X_test)"
   ]
  },
  {
   "cell_type": "code",
   "execution_count": 405,
   "metadata": {},
   "outputs": [
    {
     "name": "stdout",
     "output_type": "stream",
     "text": [
      "('Train', 37.997581817382972)\n",
      "('Test', 43.88164595788583)\n",
      "('Base mean', 51.994519083664073)\n"
     ]
    }
   ],
   "source": [
    "print('Train', mean_squared_error(y_train__, y_train))\n",
    "print('Test', mean_squared_error(y_test__, y_test))\n",
    "print('Base mean', mean_squared_error(np.full_like(y_test__, np.mean(y_train)), y_test))"
   ]
  },
  {
   "cell_type": "code",
   "execution_count": 406,
   "metadata": {},
   "outputs": [],
   "source": [
    "# y_train__stacked = (y_train__raw_char + y_train__raw_word) / 2.0\n",
    "# y_train__stacked = np.exp(y_train__stacked)\n",
    "# y_test__stacked = (y_test__raw_char + y_test__raw_word) / 2.0\n",
    "# y_test__stacked = np.exp(y_test__stacked)\n",
    "\n",
    "y_train__stacked = (y_train__raw_char + y_train__raw_word) / 2.0\n",
    "y_train__stacked = (y_train__stacked)\n",
    "y_test__stacked = (y_test__raw_char + y_test__raw_word) / 2.0\n",
    "y_test__stacked = (y_test__stacked)"
   ]
  },
  {
   "cell_type": "code",
   "execution_count": 407,
   "metadata": {},
   "outputs": [
    {
     "name": "stdout",
     "output_type": "stream",
     "text": [
      "('Train', 39.251523787994564)\n",
      "('Test', 44.057238494635662)\n"
     ]
    }
   ],
   "source": [
    "print('Train', mean_squared_error(y_train__stacked, y_train))\n",
    "print('Test', mean_squared_error(y_test__stacked, y_test))"
   ]
  },
  {
   "cell_type": "code",
   "execution_count": 408,
   "metadata": {},
   "outputs": [
    {
     "data": {
      "text/html": [
       "<div>\n",
       "<style>\n",
       "    .dataframe thead tr:only-child th {\n",
       "        text-align: right;\n",
       "    }\n",
       "\n",
       "    .dataframe thead th {\n",
       "        text-align: left;\n",
       "    }\n",
       "\n",
       "    .dataframe tbody tr th {\n",
       "        vertical-align: top;\n",
       "    }\n",
       "</style>\n",
       "<table border=\"1\" class=\"dataframe\">\n",
       "  <thead>\n",
       "    <tr style=\"text-align: right;\">\n",
       "      <th></th>\n",
       "      <th>Min Age</th>\n",
       "      <th>Max Age</th>\n",
       "    </tr>\n",
       "  </thead>\n",
       "  <tbody>\n",
       "    <tr>\n",
       "      <th>0</th>\n",
       "      <td>inst</td>\n",
       "      <td>поздравления</td>\n",
       "    </tr>\n",
       "    <tr>\n",
       "      <th>1</th>\n",
       "      <td>парня</td>\n",
       "      <td>рада новым</td>\n",
       "    </tr>\n",
       "    <tr>\n",
       "      <th>2</th>\n",
       "      <td>17</td>\n",
       "      <td>сезон</td>\n",
       "    </tr>\n",
       "    <tr>\n",
       "      <th>3</th>\n",
       "      <td>лол</td>\n",
       "      <td>ольга</td>\n",
       "    </tr>\n",
       "    <tr>\n",
       "      <th>4</th>\n",
       "      <td>инст</td>\n",
       "      <td>поиске</td>\n",
       "    </tr>\n",
       "    <tr>\n",
       "      <th>5</th>\n",
       "      <td>вопросам сотрудничества</td>\n",
       "      <td>мария</td>\n",
       "    </tr>\n",
       "    <tr>\n",
       "      <th>6</th>\n",
       "      <td>минут назад</td>\n",
       "      <td>за поздравления</td>\n",
       "    </tr>\n",
       "    <tr>\n",
       "      <th>7</th>\n",
       "      <td>беги</td>\n",
       "      <td>новым друзьям</td>\n",
       "    </tr>\n",
       "    <tr>\n",
       "      <th>8</th>\n",
       "      <td>не кто</td>\n",
       "      <td>помощь</td>\n",
       "    </tr>\n",
       "    <tr>\n",
       "      <th>9</th>\n",
       "      <td>киса</td>\n",
       "      <td>консультирование</td>\n",
       "    </tr>\n",
       "    <tr>\n",
       "      <th>10</th>\n",
       "      <td>не когда</td>\n",
       "      <td>spero</td>\n",
       "    </tr>\n",
       "    <tr>\n",
       "      <th>11</th>\n",
       "      <td>от жизни</td>\n",
       "      <td>консультант</td>\n",
       "    </tr>\n",
       "    <tr>\n",
       "      <th>12</th>\n",
       "      <td>вся жизнь</td>\n",
       "      <td>психолог</td>\n",
       "    </tr>\n",
       "    <tr>\n",
       "      <th>13</th>\n",
       "      <td>мразь</td>\n",
       "      <td>женщины</td>\n",
       "    </tr>\n",
       "    <tr>\n",
       "      <th>14</th>\n",
       "      <td>братан</td>\n",
       "      <td>татьяна</td>\n",
       "    </tr>\n",
       "    <tr>\n",
       "      <th>15</th>\n",
       "      <td>сп</td>\n",
       "      <td>детей</td>\n",
       "    </tr>\n",
       "    <tr>\n",
       "      <th>16</th>\n",
       "      <td>для меня</td>\n",
       "      <td>женщина</td>\n",
       "    </tr>\n",
       "    <tr>\n",
       "      <th>17</th>\n",
       "      <td>аниме</td>\n",
       "      <td>елена</td>\n",
       "    </tr>\n",
       "    <tr>\n",
       "      <th>18</th>\n",
       "      <td>люблю его</td>\n",
       "      <td>женат</td>\n",
       "    </tr>\n",
       "    <tr>\n",
       "      <th>19</th>\n",
       "      <td>маму</td>\n",
       "      <td>замужем</td>\n",
       "    </tr>\n",
       "  </tbody>\n",
       "</table>\n",
       "</div>"
      ],
      "text/plain": [
       "                    Min Age           Max Age\n",
       "0                      inst      поздравления\n",
       "1                     парня        рада новым\n",
       "2                        17             сезон\n",
       "3                       лол             ольга\n",
       "4                      инст            поиске\n",
       "5   вопросам сотрудничества             мария\n",
       "6               минут назад   за поздравления\n",
       "7                      беги     новым друзьям\n",
       "8                    не кто            помощь\n",
       "9                      киса  консультирование\n",
       "10                 не когда             spero\n",
       "11                 от жизни       консультант\n",
       "12                вся жизнь          психолог\n",
       "13                    мразь           женщины\n",
       "14                   братан           татьяна\n",
       "15                       сп             детей\n",
       "16                 для меня           женщина\n",
       "17                    аниме             елена\n",
       "18                люблю его             женат\n",
       "19                     маму           замужем"
      ]
     },
     "execution_count": 408,
     "metadata": {},
     "output_type": "execute_result"
    }
   ],
   "source": [
    "df_age_demo.head(20)"
   ]
  },
  {
   "cell_type": "code",
   "execution_count": null,
   "metadata": {
    "collapsed": true
   },
   "outputs": [],
   "source": []
  },
  {
   "cell_type": "code",
   "execution_count": null,
   "metadata": {
    "collapsed": true
   },
   "outputs": [],
   "source": []
  }
 ],
 "metadata": {
  "kernelspec": {
   "display_name": "Python 3",
   "language": "python",
   "name": "python3"
  },
  "language_info": {
   "codemirror_mode": {
    "name": "ipython",
    "version": 2
   },
   "file_extension": ".py",
   "mimetype": "text/x-python",
   "name": "python",
   "nbconvert_exporter": "python",
   "pygments_lexer": "ipython2",
   "version": "2.7.10"
  }
 },
 "nbformat": 4,
 "nbformat_minor": 2
}
