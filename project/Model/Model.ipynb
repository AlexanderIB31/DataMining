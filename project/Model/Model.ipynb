{
 "cells": [
  {
   "cell_type": "code",
   "execution_count": 1,
   "metadata": {},
   "outputs": [],
   "source": [
    "import pandas as pd\n",
    "import numpy as np\n",
    "\n",
    "from sklearn.feature_extraction.text import CountVectorizer, TfidfVectorizer\n",
    "from sklearn.linear_model import LogisticRegression\n",
    "from sklearn.metrics import accuracy_score\n",
    "from sklearn.metrics import mean_absolute_error\n",
    "from sklearn.metrics import mean_squared_error\n",
    "from sklearn import linear_model\n",
    "from sklearn.model_selection import train_test_split\n",
    "from imblearn.over_sampling import RandomOverSampler"
   ]
  },
  {
   "cell_type": "markdown",
   "metadata": {},
   "source": [
    "## Load data"
   ]
  },
  {
   "cell_type": "code",
   "execution_count": 24,
   "metadata": {},
   "outputs": [
    {
     "data": {
      "text/html": [
       "<div>\n",
       "<style scoped>\n",
       "    .dataframe tbody tr th:only-of-type {\n",
       "        vertical-align: middle;\n",
       "    }\n",
       "\n",
       "    .dataframe tbody tr th {\n",
       "        vertical-align: top;\n",
       "    }\n",
       "\n",
       "    .dataframe thead th {\n",
       "        text-align: right;\n",
       "    }\n",
       "</style>\n",
       "<table border=\"1\" class=\"dataframe\">\n",
       "  <thead>\n",
       "    <tr style=\"text-align: right;\">\n",
       "      <th></th>\n",
       "      <th>id</th>\n",
       "      <th>text</th>\n",
       "      <th>sex</th>\n",
       "      <th>city</th>\n",
       "      <th>age</th>\n",
       "      <th>source</th>\n",
       "    </tr>\n",
       "  </thead>\n",
       "  <tbody>\n",
       "    <tr>\n",
       "      <th>0</th>\n",
       "      <td>181158</td>\n",
       "      <td>Счастье - личный выбор каждого!</td>\n",
       "      <td>1</td>\n",
       "      <td>2</td>\n",
       "      <td>33</td>\n",
       "      <td>1</td>\n",
       "    </tr>\n",
       "    <tr>\n",
       "      <th>1</th>\n",
       "      <td>33761</td>\n",
       "      <td>Работа моя. Работушка. Работонька! Кормилица т...</td>\n",
       "      <td>2</td>\n",
       "      <td>2</td>\n",
       "      <td>30</td>\n",
       "      <td>1</td>\n",
       "    </tr>\n",
       "    <tr>\n",
       "      <th>2</th>\n",
       "      <td>429047370</td>\n",
       "      <td>В любимом человеке нравятся даже недостатки, а...</td>\n",
       "      <td>1</td>\n",
       "      <td>2</td>\n",
       "      <td>17</td>\n",
       "      <td>1</td>\n",
       "    </tr>\n",
       "    <tr>\n",
       "      <th>3</th>\n",
       "      <td>236834920</td>\n",
       "      <td>некоторым не то что-нет надо было сказать,а во...</td>\n",
       "      <td>1</td>\n",
       "      <td>2</td>\n",
       "      <td>21</td>\n",
       "      <td>1</td>\n",
       "    </tr>\n",
       "    <tr>\n",
       "      <th>4</th>\n",
       "      <td>294621065</td>\n",
       "      <td>РАБОТА! НУЖНЫ ОРГАНИЗАТОРЫ ПО УПРАВЛЕНИЮ ИНТЕР...</td>\n",
       "      <td>1</td>\n",
       "      <td>2</td>\n",
       "      <td>21</td>\n",
       "      <td>1</td>\n",
       "    </tr>\n",
       "  </tbody>\n",
       "</table>\n",
       "</div>"
      ],
      "text/plain": [
       "          id                                               text  sex  city  \\\n",
       "0     181158                    Счастье - личный выбор каждого!    1     2   \n",
       "1      33761  Работа моя. Работушка. Работонька! Кормилица т...    2     2   \n",
       "2  429047370  В любимом человеке нравятся даже недостатки, а...    1     2   \n",
       "3  236834920  некоторым не то что-нет надо было сказать,а во...    1     2   \n",
       "4  294621065  РАБОТА! НУЖНЫ ОРГАНИЗАТОРЫ ПО УПРАВЛЕНИЮ ИНТЕР...    1     2   \n",
       "\n",
       "   age  source  \n",
       "0   33       1  \n",
       "1   30       1  \n",
       "2   17       1  \n",
       "3   21       1  \n",
       "4   21       1  "
      ]
     },
     "execution_count": 24,
     "metadata": {},
     "output_type": "execute_result"
    }
   ],
   "source": [
    "df = pd.read_csv('vk-crawl.csv', sep=',')\n",
    "df = df.dropna()\n",
    "df = df[df['text'].str.contains('[a-zA-Zа-яА-Я]')]\n",
    "df = df.sample(frac=1).reset_index(drop=True)\n",
    "\n",
    "df.head()"
   ]
  },
  {
   "cell_type": "markdown",
   "metadata": {},
   "source": [
    "## Predict sex"
   ]
  },
  {
   "cell_type": "code",
   "execution_count": 165,
   "metadata": {},
   "outputs": [
    {
     "name": "stdout",
     "output_type": "stream",
     "text": [
      "Dataset size: 302880\n"
     ]
    }
   ],
   "source": [
    "idxs = []\n",
    "m = min(df['sex'].value_counts())\n",
    "for a in range(1,3):\n",
    "    idxs.extend(df.index[df['sex'] == a].tolist()[:m])\n",
    "dfs = df.loc[idxs]\n",
    "print('Dataset size: {}'.format(dfs.shape[0]))"
   ]
  },
  {
   "cell_type": "code",
   "execution_count": 166,
   "metadata": {
    "collapsed": true
   },
   "outputs": [],
   "source": [
    "y = dfs['sex'].values - 1\n",
    "corpus = dfs['text'].values\n",
    "\n",
    "corpus_train, corpus_test, y_train, y_test = train_test_split(corpus, y, test_size=0.2, stratify=y)"
   ]
  },
  {
   "cell_type": "code",
   "execution_count": 27,
   "metadata": {
    "collapsed": true
   },
   "outputs": [],
   "source": [
    "y_train_probas = []\n",
    "y_test_probas = []"
   ]
  },
  {
   "cell_type": "code",
   "execution_count": 45,
   "metadata": {
    "collapsed": true
   },
   "outputs": [],
   "source": [
    "# word case\n",
    "vect = TfidfVectorizer(ngram_range=(1,2), min_df=3, analyzer='word')\n",
    "vect.fit(corpus_train)\n",
    "\n",
    "X_train = vect.transform(corpus_train)\n",
    "X_test = vect.transform(corpus_test)"
   ]
  },
  {
   "cell_type": "code",
   "execution_count": 46,
   "metadata": {
    "collapsed": true
   },
   "outputs": [],
   "source": [
    "## Naive Bayes\n",
    "from sklearn.naive_bayes import MultinomialNB\n",
    "\n",
    "sex_predictor = MultinomialNB()\n",
    "sex_predictor.fit(X_train, y_train)\n",
    "\n",
    "y_train_probas.append(sex_predictor.predict_proba(X_train))\n",
    "y_test_probas.append(sex_predictor.predict_proba(X_test))\n",
    "\n",
    "y_train__ = sex_predictor.predict(X_train)\n",
    "y_test__ = sex_predictor.predict(X_test)"
   ]
  },
  {
   "cell_type": "code",
   "execution_count": 47,
   "metadata": {},
   "outputs": [
    {
     "name": "stdout",
     "output_type": "stream",
     "text": [
      "Train 0.724833267301\n",
      "Test 0.637925911252\n",
      "Base mean 0.5\n"
     ]
    }
   ],
   "source": [
    "print('Train', accuracy_score(y_train__, y_train))\n",
    "print('Test', accuracy_score(y_test__, y_test))\n",
    "print('Base mean', accuracy_score(np.full_like(y_test, 0), y_test))"
   ]
  },
  {
   "cell_type": "code",
   "execution_count": 48,
   "metadata": {
    "collapsed": true
   },
   "outputs": [],
   "source": [
    "sex_predictor = LogisticRegression(C=1.0)\n",
    "sex_predictor.fit(X_train, y_train)\n",
    "\n",
    "y_train_probas.append(sex_predictor.predict_proba(X_train))\n",
    "y_test_probas.append(sex_predictor.predict_proba(X_test))\n",
    "\n",
    "y_train__ = sex_predictor.predict(X_train)\n",
    "y_test__ = sex_predictor.predict(X_test)"
   ]
  },
  {
   "cell_type": "code",
   "execution_count": 49,
   "metadata": {
    "collapsed": true
   },
   "outputs": [],
   "source": [
    "inv_vocab = {v: k for k, v in vect.vocabulary_.items()}\n",
    "df_sex_demo = pd.DataFrame()\n",
    "df_sex_demo['F'] = [inv_vocab[i] for i in np.argsort(sex_predictor.coef_[0])[:20]] \n",
    "df_sex_demo['M'] = [inv_vocab[i] for i in np.argsort(sex_predictor.coef_[0])[-20:]]"
   ]
  },
  {
   "cell_type": "code",
   "execution_count": 50,
   "metadata": {},
   "outputs": [
    {
     "name": "stdout",
     "output_type": "stream",
     "text": [
      "Train 0.748068541997\n",
      "Test 0.653146460644\n",
      "Base mean 0.5\n"
     ]
    }
   ],
   "source": [
    "print('Train', accuracy_score(y_train__, y_train))\n",
    "print('Test', accuracy_score(y_test__, y_test))\n",
    "print('Base mean', accuracy_score(np.full_like(y_test, 0), y_test))"
   ]
  },
  {
   "cell_type": "code",
   "execution_count": 62,
   "metadata": {},
   "outputs": [],
   "source": [
    "# char case\n",
    "vect = TfidfVectorizer(ngram_range=(1,5), min_df=10, analyzer='char')\n",
    "vect.fit(corpus_train)\n",
    "\n",
    "X_train = vect.transform(corpus_train)\n",
    "X_test = vect.transform(corpus_test)"
   ]
  },
  {
   "cell_type": "code",
   "execution_count": 103,
   "metadata": {
    "collapsed": true
   },
   "outputs": [],
   "source": [
    "sex_predictor = MultinomialNB(alpha=1e-5)\n",
    "sex_predictor.fit(X_train, y_train)\n",
    "\n",
    "# y_train_probas.append(sex_predictor.predict_proba(X_train))\n",
    "# y_test_probas.append(sex_predictor.predict_proba(X_test))\n",
    "\n",
    "y_train__ = sex_predictor.predict(X_train)\n",
    "y_test__ = sex_predictor.predict(X_test)"
   ]
  },
  {
   "cell_type": "code",
   "execution_count": 104,
   "metadata": {},
   "outputs": [
    {
     "name": "stdout",
     "output_type": "stream",
     "text": [
      "('Train', 0.6772176631496678)\n",
      "('Test', 0.64347287781474893)\n",
      "('Base mean', 0.50000773814129851)\n"
     ]
    }
   ],
   "source": [
    "print('Train', accuracy_score(y_train__, y_train))\n",
    "print('Test', accuracy_score(y_test__, y_test))\n",
    "print('Base mean', accuracy_score(np.full_like(y_test, 0), y_test))"
   ]
  },
  {
   "cell_type": "code",
   "execution_count": 63,
   "metadata": {
    "collapsed": true
   },
   "outputs": [],
   "source": [
    "sex_predictor = LogisticRegression(C=1.0)\n",
    "sex_predictor.fit(X_train, y_train)\n",
    "\n",
    "y_train_probas.append(sex_predictor.predict_proba(X_train))\n",
    "y_test_probas.append(sex_predictor.predict_proba(X_test))\n",
    "\n",
    "y_train__ = sex_predictor.predict(X_train)\n",
    "y_test__ = sex_predictor.predict(X_test)"
   ]
  },
  {
   "cell_type": "code",
   "execution_count": 64,
   "metadata": {},
   "outputs": [
    {
     "name": "stdout",
     "output_type": "stream",
     "text": [
      "Train 0.753734977549\n",
      "Test 0.670199418912\n",
      "Base mean 0.5\n"
     ]
    }
   ],
   "source": [
    "print('Train', accuracy_score(y_train__, y_train))\n",
    "print('Test', accuracy_score(y_test__, y_test))\n",
    "print('Base mean', accuracy_score(np.full_like(y_test, 0), y_test))"
   ]
  },
  {
   "cell_type": "code",
   "execution_count": 43,
   "metadata": {
    "collapsed": true
   },
   "outputs": [],
   "source": [
    "y_train__stacked = np.argmax(np.mean(np.c_[y_train_probas], axis=0), axis=1)\n",
    "y_test__stacked = np.argmax(np.mean(np.c_[y_test_probas], axis=0), axis=1)"
   ]
  },
  {
   "cell_type": "code",
   "execution_count": 44,
   "metadata": {
    "scrolled": true
   },
   "outputs": [
    {
     "name": "stdout",
     "output_type": "stream",
     "text": [
      "Train 0.757573131273\n",
      "Test 0.664124405705\n"
     ]
    }
   ],
   "source": [
    "print('Train', accuracy_score(y_train__stacked, y_train))\n",
    "print('Test', accuracy_score(y_test__stacked, y_test))"
   ]
  },
  {
   "cell_type": "code",
   "execution_count": 185,
   "metadata": {},
   "outputs": [
    {
     "data": {
      "text/html": [
       "<div>\n",
       "<style>\n",
       "    .dataframe thead tr:only-child th {\n",
       "        text-align: right;\n",
       "    }\n",
       "\n",
       "    .dataframe thead th {\n",
       "        text-align: left;\n",
       "    }\n",
       "\n",
       "    .dataframe tbody tr th {\n",
       "        vertical-align: top;\n",
       "    }\n",
       "</style>\n",
       "<table border=\"1\" class=\"dataframe\">\n",
       "  <thead>\n",
       "    <tr style=\"text-align: right;\">\n",
       "      <th></th>\n",
       "      <th>F</th>\n",
       "      <th>M</th>\n",
       "    </tr>\n",
       "  </thead>\n",
       "  <tbody>\n",
       "    <tr>\n",
       "      <th>0</th>\n",
       "      <td>счастлива</td>\n",
       "      <td>хоккей</td>\n",
       "    </tr>\n",
       "    <tr>\n",
       "      <th>1</th>\n",
       "      <td>рада</td>\n",
       "      <td>счастлив</td>\n",
       "    </tr>\n",
       "    <tr>\n",
       "      <th>2</th>\n",
       "      <td>счастливая</td>\n",
       "      <td>цска</td>\n",
       "    </tr>\n",
       "    <tr>\n",
       "      <th>3</th>\n",
       "      <td>счастливой</td>\n",
       "      <td>футбол</td>\n",
       "    </tr>\n",
       "    <tr>\n",
       "      <th>4</th>\n",
       "      <td>мальчики</td>\n",
       "      <td>влюблен</td>\n",
       "    </tr>\n",
       "    <tr>\n",
       "      <th>5</th>\n",
       "      <td>мужа</td>\n",
       "      <td>влюблён</td>\n",
       "    </tr>\n",
       "    <tr>\n",
       "      <th>6</th>\n",
       "      <td>наращивание</td>\n",
       "      <td>пацаны</td>\n",
       "    </tr>\n",
       "    <tr>\n",
       "      <th>7</th>\n",
       "      <td>парня</td>\n",
       "      <td>крут</td>\n",
       "    </tr>\n",
       "    <tr>\n",
       "      <th>8</th>\n",
       "      <td>замужем</td>\n",
       "      <td>стал</td>\n",
       "    </tr>\n",
       "    <tr>\n",
       "      <th>9</th>\n",
       "      <td>маникюр</td>\n",
       "      <td>свободен</td>\n",
       "    </tr>\n",
       "    <tr>\n",
       "      <th>10</th>\n",
       "      <td>сама</td>\n",
       "      <td>честь</td>\n",
       "    </tr>\n",
       "    <tr>\n",
       "      <th>11</th>\n",
       "      <td>одежда</td>\n",
       "      <td>люблю ее</td>\n",
       "    </tr>\n",
       "    <tr>\n",
       "      <th>12</th>\n",
       "      <td>стилист</td>\n",
       "      <td>ремонт</td>\n",
       "    </tr>\n",
       "    <tr>\n",
       "      <th>13</th>\n",
       "      <td>люблю его</td>\n",
       "      <td>ведущий</td>\n",
       "    </tr>\n",
       "    <tr>\n",
       "      <th>14</th>\n",
       "      <td>влюблена</td>\n",
       "      <td>уехал</td>\n",
       "    </tr>\n",
       "    <tr>\n",
       "      <th>15</th>\n",
       "      <td>свободна</td>\n",
       "      <td>девушку</td>\n",
       "    </tr>\n",
       "    <tr>\n",
       "      <th>16</th>\n",
       "      <td>ведущая</td>\n",
       "      <td>вернулся</td>\n",
       "    </tr>\n",
       "    <tr>\n",
       "      <th>17</th>\n",
       "      <td>женщина</td>\n",
       "      <td>женат</td>\n",
       "    </tr>\n",
       "    <tr>\n",
       "      <th>18</th>\n",
       "      <td>макияж</td>\n",
       "      <td>рад</td>\n",
       "    </tr>\n",
       "    <tr>\n",
       "      <th>19</th>\n",
       "      <td>любимый</td>\n",
       "      <td>жену</td>\n",
       "    </tr>\n",
       "  </tbody>\n",
       "</table>\n",
       "</div>"
      ],
      "text/plain": [
       "              F         M\n",
       "0     счастлива    хоккей\n",
       "1          рада  счастлив\n",
       "2    счастливая      цска\n",
       "3    счастливой    футбол\n",
       "4      мальчики   влюблен\n",
       "5          мужа   влюблён\n",
       "6   наращивание    пацаны\n",
       "7         парня      крут\n",
       "8       замужем      стал\n",
       "9       маникюр  свободен\n",
       "10         сама     честь\n",
       "11       одежда  люблю ее\n",
       "12      стилист    ремонт\n",
       "13    люблю его   ведущий\n",
       "14     влюблена     уехал\n",
       "15     свободна   девушку\n",
       "16      ведущая  вернулся\n",
       "17      женщина     женат\n",
       "18       макияж       рад\n",
       "19      любимый      жену"
      ]
     },
     "execution_count": 185,
     "metadata": {},
     "output_type": "execute_result"
    }
   ],
   "source": [
    "df_sex_demo.head(20)"
   ]
  },
  {
   "cell_type": "code",
   "execution_count": 167,
   "metadata": {
    "collapsed": true
   },
   "outputs": [],
   "source": [
    "class CModel:\n",
    "    def __init__(self):\n",
    "        self.word_vect = TfidfVectorizer(ngram_range=(1,2), min_df=3, analyzer='word')\n",
    "        self.char_vect = TfidfVectorizer(ngram_range=(1,5), min_df=10, analyzer='char')\n",
    "        self.word_predictor = MultinomialNB()\n",
    "        self.char_predictor = LogisticRegression()\n",
    "    \n",
    "    def fit(self, X, y):\n",
    "        self.word_vect.fit(X)\n",
    "        X_train = self.word_vect.transform(X)\n",
    "        self.word_predictor.fit(X_train, y)\n",
    "        \n",
    "        self.char_vect.fit(X)\n",
    "        X_train = self.char_vect.transform(X)\n",
    "        self.char_predictor.fit(X_train, y)\n",
    "    \n",
    "    def predict(self, X):\n",
    "        y_probas = []\n",
    "        \n",
    "        X_target = self.word_vect.transform(X)\n",
    "        y_probas.append(self.word_predictor.predict_proba(X_target))\n",
    "        X_target = self.char_vect.transform(X)\n",
    "        y_probas.append(self.char_predictor.predict_proba(X_target))\n",
    "        \n",
    "        return np.argmax(np.mean(np.c_[y_probas], axis=0), axis=1)"
   ]
  },
  {
   "cell_type": "code",
   "execution_count": 77,
   "metadata": {
    "collapsed": true
   },
   "outputs": [
    {
     "ename": "KeyboardInterrupt",
     "evalue": "",
     "output_type": "error",
     "traceback": [
      "\u001b[0;31m---------------------------------------------------------------------------\u001b[0m",
      "\u001b[0;31mKeyboardInterrupt\u001b[0m                         Traceback (most recent call last)",
      "\u001b[0;32m<ipython-input-77-894a2df0a6c2>\u001b[0m in \u001b[0;36m<module>\u001b[0;34m()\u001b[0m\n\u001b[1;32m      7\u001b[0m \u001b[0;32mfor\u001b[0m \u001b[0mtrain\u001b[0m\u001b[0;34m,\u001b[0m \u001b[0mtest\u001b[0m \u001b[0;32min\u001b[0m \u001b[0mkf\u001b[0m\u001b[0;34m.\u001b[0m\u001b[0msplit\u001b[0m\u001b[0;34m(\u001b[0m\u001b[0mcorpus\u001b[0m\u001b[0;34m,\u001b[0m \u001b[0my\u001b[0m\u001b[0;34m)\u001b[0m\u001b[0;34m:\u001b[0m\u001b[0;34m\u001b[0m\u001b[0m\n\u001b[1;32m      8\u001b[0m     \u001b[0mcmodel\u001b[0m \u001b[0;34m=\u001b[0m \u001b[0mCModel\u001b[0m\u001b[0;34m(\u001b[0m\u001b[0;34m)\u001b[0m\u001b[0;34m\u001b[0m\u001b[0m\n\u001b[0;32m----> 9\u001b[0;31m     \u001b[0mcmodel\u001b[0m\u001b[0;34m.\u001b[0m\u001b[0mfit\u001b[0m\u001b[0;34m(\u001b[0m\u001b[0mcorpus\u001b[0m\u001b[0;34m[\u001b[0m\u001b[0mtrain\u001b[0m\u001b[0;34m]\u001b[0m\u001b[0;34m,\u001b[0m \u001b[0my\u001b[0m\u001b[0;34m[\u001b[0m\u001b[0mtrain\u001b[0m\u001b[0;34m]\u001b[0m\u001b[0;34m)\u001b[0m\u001b[0;34m\u001b[0m\u001b[0m\n\u001b[0m\u001b[1;32m     10\u001b[0m     \u001b[0mtrain_scores\u001b[0m\u001b[0;34m.\u001b[0m\u001b[0mappend\u001b[0m\u001b[0;34m(\u001b[0m\u001b[0maccuracy_score\u001b[0m\u001b[0;34m(\u001b[0m\u001b[0mcmodel\u001b[0m\u001b[0;34m.\u001b[0m\u001b[0mpredict\u001b[0m\u001b[0;34m(\u001b[0m\u001b[0mcorpus\u001b[0m\u001b[0;34m[\u001b[0m\u001b[0mtrain\u001b[0m\u001b[0;34m]\u001b[0m\u001b[0;34m)\u001b[0m\u001b[0;34m,\u001b[0m \u001b[0my\u001b[0m\u001b[0;34m[\u001b[0m\u001b[0mtrain\u001b[0m\u001b[0;34m]\u001b[0m\u001b[0;34m)\u001b[0m\u001b[0;34m)\u001b[0m\u001b[0;34m\u001b[0m\u001b[0m\n\u001b[1;32m     11\u001b[0m     \u001b[0mtest_scores\u001b[0m\u001b[0;34m.\u001b[0m\u001b[0mappend\u001b[0m\u001b[0;34m(\u001b[0m\u001b[0maccuracy_score\u001b[0m\u001b[0;34m(\u001b[0m\u001b[0mcmodel\u001b[0m\u001b[0;34m.\u001b[0m\u001b[0mpredict\u001b[0m\u001b[0;34m(\u001b[0m\u001b[0mcorpus\u001b[0m\u001b[0;34m[\u001b[0m\u001b[0mtest\u001b[0m\u001b[0;34m]\u001b[0m\u001b[0;34m)\u001b[0m\u001b[0;34m,\u001b[0m \u001b[0my\u001b[0m\u001b[0;34m[\u001b[0m\u001b[0mtest\u001b[0m\u001b[0;34m]\u001b[0m\u001b[0;34m)\u001b[0m\u001b[0;34m)\u001b[0m\u001b[0;34m\u001b[0m\u001b[0m\n",
      "\u001b[0;32m<ipython-input-76-0a364af06353>\u001b[0m in \u001b[0;36mfit\u001b[0;34m(self, X, y)\u001b[0m\n\u001b[1;32m      7\u001b[0m \u001b[0;34m\u001b[0m\u001b[0m\n\u001b[1;32m      8\u001b[0m     \u001b[0;32mdef\u001b[0m \u001b[0mfit\u001b[0m\u001b[0;34m(\u001b[0m\u001b[0mself\u001b[0m\u001b[0;34m,\u001b[0m \u001b[0mX\u001b[0m\u001b[0;34m,\u001b[0m \u001b[0my\u001b[0m\u001b[0;34m)\u001b[0m\u001b[0;34m:\u001b[0m\u001b[0;34m\u001b[0m\u001b[0m\n\u001b[0;32m----> 9\u001b[0;31m         \u001b[0mself\u001b[0m\u001b[0;34m.\u001b[0m\u001b[0mword_vect\u001b[0m\u001b[0;34m.\u001b[0m\u001b[0mfit\u001b[0m\u001b[0;34m(\u001b[0m\u001b[0mX\u001b[0m\u001b[0;34m)\u001b[0m\u001b[0;34m\u001b[0m\u001b[0m\n\u001b[0m\u001b[1;32m     10\u001b[0m         \u001b[0mX_train\u001b[0m \u001b[0;34m=\u001b[0m \u001b[0mself\u001b[0m\u001b[0;34m.\u001b[0m\u001b[0mword_vect\u001b[0m\u001b[0;34m.\u001b[0m\u001b[0mtransform\u001b[0m\u001b[0;34m(\u001b[0m\u001b[0mX\u001b[0m\u001b[0;34m)\u001b[0m\u001b[0;34m\u001b[0m\u001b[0m\n\u001b[1;32m     11\u001b[0m         \u001b[0mself\u001b[0m\u001b[0;34m.\u001b[0m\u001b[0mword_predictor\u001b[0m\u001b[0;34m.\u001b[0m\u001b[0mfit\u001b[0m\u001b[0;34m(\u001b[0m\u001b[0mX_train\u001b[0m\u001b[0;34m,\u001b[0m \u001b[0my\u001b[0m\u001b[0;34m)\u001b[0m\u001b[0;34m\u001b[0m\u001b[0m\n",
      "\u001b[0;32m~/Documents/MachineLearning/mlenv/lib/python3.5/site-packages/sklearn/feature_extraction/text.py\u001b[0m in \u001b[0;36mfit\u001b[0;34m(self, raw_documents, y)\u001b[0m\n\u001b[1;32m   1359\u001b[0m         \u001b[0mself\u001b[0m \u001b[0;34m:\u001b[0m \u001b[0mTfidfVectorizer\u001b[0m\u001b[0;34m\u001b[0m\u001b[0m\n\u001b[1;32m   1360\u001b[0m         \"\"\"\n\u001b[0;32m-> 1361\u001b[0;31m         \u001b[0mX\u001b[0m \u001b[0;34m=\u001b[0m \u001b[0msuper\u001b[0m\u001b[0;34m(\u001b[0m\u001b[0mTfidfVectorizer\u001b[0m\u001b[0;34m,\u001b[0m \u001b[0mself\u001b[0m\u001b[0;34m)\u001b[0m\u001b[0;34m.\u001b[0m\u001b[0mfit_transform\u001b[0m\u001b[0;34m(\u001b[0m\u001b[0mraw_documents\u001b[0m\u001b[0;34m)\u001b[0m\u001b[0;34m\u001b[0m\u001b[0m\n\u001b[0m\u001b[1;32m   1362\u001b[0m         \u001b[0mself\u001b[0m\u001b[0;34m.\u001b[0m\u001b[0m_tfidf\u001b[0m\u001b[0;34m.\u001b[0m\u001b[0mfit\u001b[0m\u001b[0;34m(\u001b[0m\u001b[0mX\u001b[0m\u001b[0;34m)\u001b[0m\u001b[0;34m\u001b[0m\u001b[0m\n\u001b[1;32m   1363\u001b[0m         \u001b[0;32mreturn\u001b[0m \u001b[0mself\u001b[0m\u001b[0;34m\u001b[0m\u001b[0m\n",
      "\u001b[0;32m~/Documents/MachineLearning/mlenv/lib/python3.5/site-packages/sklearn/feature_extraction/text.py\u001b[0m in \u001b[0;36mfit_transform\u001b[0;34m(self, raw_documents, y)\u001b[0m\n\u001b[1;32m    867\u001b[0m \u001b[0;34m\u001b[0m\u001b[0m\n\u001b[1;32m    868\u001b[0m         vocabulary, X = self._count_vocab(raw_documents,\n\u001b[0;32m--> 869\u001b[0;31m                                           self.fixed_vocabulary_)\n\u001b[0m\u001b[1;32m    870\u001b[0m \u001b[0;34m\u001b[0m\u001b[0m\n\u001b[1;32m    871\u001b[0m         \u001b[0;32mif\u001b[0m \u001b[0mself\u001b[0m\u001b[0;34m.\u001b[0m\u001b[0mbinary\u001b[0m\u001b[0;34m:\u001b[0m\u001b[0;34m\u001b[0m\u001b[0m\n",
      "\u001b[0;32m~/Documents/MachineLearning/mlenv/lib/python3.5/site-packages/sklearn/feature_extraction/text.py\u001b[0m in \u001b[0;36m_count_vocab\u001b[0;34m(self, raw_documents, fixed_vocab)\u001b[0m\n\u001b[1;32m    793\u001b[0m                 \u001b[0;32mtry\u001b[0m\u001b[0;34m:\u001b[0m\u001b[0;34m\u001b[0m\u001b[0m\n\u001b[1;32m    794\u001b[0m                     \u001b[0mfeature_idx\u001b[0m \u001b[0;34m=\u001b[0m \u001b[0mvocabulary\u001b[0m\u001b[0;34m[\u001b[0m\u001b[0mfeature\u001b[0m\u001b[0;34m]\u001b[0m\u001b[0;34m\u001b[0m\u001b[0m\n\u001b[0;32m--> 795\u001b[0;31m                     \u001b[0;32mif\u001b[0m \u001b[0mfeature_idx\u001b[0m \u001b[0;32mnot\u001b[0m \u001b[0;32min\u001b[0m \u001b[0mfeature_counter\u001b[0m\u001b[0;34m:\u001b[0m\u001b[0;34m\u001b[0m\u001b[0m\n\u001b[0m\u001b[1;32m    796\u001b[0m                         \u001b[0mfeature_counter\u001b[0m\u001b[0;34m[\u001b[0m\u001b[0mfeature_idx\u001b[0m\u001b[0;34m]\u001b[0m \u001b[0;34m=\u001b[0m \u001b[0;36m1\u001b[0m\u001b[0;34m\u001b[0m\u001b[0m\n\u001b[1;32m    797\u001b[0m                     \u001b[0;32melse\u001b[0m\u001b[0;34m:\u001b[0m\u001b[0;34m\u001b[0m\u001b[0m\n",
      "\u001b[0;31mKeyboardInterrupt\u001b[0m: "
     ]
    }
   ],
   "source": [
    "from sklearn.model_selection import KFold\n",
    "\n",
    "kf = KFold(n_splits=5, shuffle=True)\n",
    "\n",
    "train_scores, test_scores = [], []\n",
    "\n",
    "for train, test in kf.split(corpus, y):\n",
    "    cmodel = CModel()\n",
    "    cmodel.fit(corpus[train], y[train])\n",
    "    train_scores.append(accuracy_score(cmodel.predict(corpus[train]), y[train]))\n",
    "    test_scores.append(accuracy_score(cmodel.predict(corpus[test]), y[test]))\n",
    "    print('Train: {}, Test: {}'.format(train_scores[-1], test_scores[-1]))\n",
    "\n",
    "print('Mean. Train: {}, Test: {}'.format(np.mean(train_scores), np.mean(test_scores)))"
   ]
  },
  {
   "cell_type": "markdown",
   "metadata": {},
   "source": [
    "nb\n",
    "Train: 0.7617827192287374, Test: 0.6695390913893291\n",
    "Train: 0.7622532025884838, Test: 0.6705460908610671\n",
    "Train: 0.7615846209720021, Test: 0.6731378763866878\n",
    "Train: 0.7624678090332805, Test: 0.6708432382461701\n",
    "Train: 0.7618116085578447, Test: 0.6720813523507659\n",
    "Mean. Train: 0.7619799920760697, Test: 0.671229529846804"
   ]
  },
  {
   "cell_type": "code",
   "execution_count": 164,
   "metadata": {},
   "outputs": [
    {
     "data": {
      "text/html": [
       "<div>\n",
       "<style scoped>\n",
       "    .dataframe tbody tr th:only-of-type {\n",
       "        vertical-align: middle;\n",
       "    }\n",
       "\n",
       "    .dataframe tbody tr th {\n",
       "        vertical-align: top;\n",
       "    }\n",
       "\n",
       "    .dataframe thead th {\n",
       "        text-align: right;\n",
       "    }\n",
       "</style>\n",
       "<table border=\"1\" class=\"dataframe\">\n",
       "  <thead>\n",
       "    <tr style=\"text-align: right;\">\n",
       "      <th></th>\n",
       "      <th>age</th>\n",
       "      <th>city</th>\n",
       "      <th>id</th>\n",
       "      <th>sex</th>\n",
       "      <th>source</th>\n",
       "      <th>text</th>\n",
       "    </tr>\n",
       "  </thead>\n",
       "  <tbody>\n",
       "    <tr>\n",
       "      <th>0</th>\n",
       "      <td>35</td>\n",
       "      <td>1</td>\n",
       "      <td>32114626</td>\n",
       "      <td>1</td>\n",
       "      <td>2</td>\n",
       "      <td>Зима пришла) урааа!😃У нас валит снег❄❄❄</td>\n",
       "    </tr>\n",
       "    <tr>\n",
       "      <th>1</th>\n",
       "      <td>36</td>\n",
       "      <td>1</td>\n",
       "      <td>342265186</td>\n",
       "      <td>1</td>\n",
       "      <td>2</td>\n",
       "      <td>Дорогие друзья , ждём вас на нашем концерте в ...</td>\n",
       "    </tr>\n",
       "    <tr>\n",
       "      <th>2</th>\n",
       "      <td>34</td>\n",
       "      <td>1</td>\n",
       "      <td>6288990</td>\n",
       "      <td>1</td>\n",
       "      <td>2</td>\n",
       "      <td>И ещё немного удовольствия от Сарьяна</td>\n",
       "    </tr>\n",
       "    <tr>\n",
       "      <th>3</th>\n",
       "      <td>18</td>\n",
       "      <td>1</td>\n",
       "      <td>101768973</td>\n",
       "      <td>1</td>\n",
       "      <td>2</td>\n",
       "      <td>Если судьбе будет угодно,она не раз ещё сведёт...</td>\n",
       "    </tr>\n",
       "    <tr>\n",
       "      <th>4</th>\n",
       "      <td>33</td>\n",
       "      <td>2</td>\n",
       "      <td>599885</td>\n",
       "      <td>1</td>\n",
       "      <td>2</td>\n",
       "      <td>Уииии</td>\n",
       "    </tr>\n",
       "  </tbody>\n",
       "</table>\n",
       "</div>"
      ],
      "text/plain": [
       "   age  city         id  sex  source  \\\n",
       "0   35     1   32114626    1       2   \n",
       "1   36     1  342265186    1       2   \n",
       "2   34     1    6288990    1       2   \n",
       "3   18     1  101768973    1       2   \n",
       "4   33     2     599885    1       2   \n",
       "\n",
       "                                                text  \n",
       "0            Зима пришла) урааа!😃У нас валит снег❄❄❄  \n",
       "1  Дорогие друзья , ждём вас на нашем концерте в ...  \n",
       "2              И ещё немного удовольствия от Сарьяна  \n",
       "3  Если судьбе будет угодно,она не раз ещё сведёт...  \n",
       "4                                              Уииии  "
      ]
     },
     "execution_count": 164,
     "metadata": {},
     "output_type": "execute_result"
    }
   ],
   "source": [
    "dfe = pd.read_csv('vk-crawl_v2.csv', sep=',')\n",
    "dfe = dfe[dfe['source'] == 2]\n",
    "dfe = dfe.dropna()\n",
    "dfe = dfe[dfe['text'].str.contains('[a-zA-Zа-яА-Я]')]\n",
    "dfe = dfe.sample(frac=1).reset_index(drop=True)\n",
    "\n",
    "dfe.head()"
   ]
  },
  {
   "cell_type": "code",
   "execution_count": 171,
   "metadata": {
    "collapsed": true
   },
   "outputs": [],
   "source": [
    "y_eval = dfe['sex'].values - 1\n",
    "corpus_eval = dfe['text'].values"
   ]
  },
  {
   "cell_type": "code",
   "execution_count": 172,
   "metadata": {},
   "outputs": [],
   "source": [
    "cmodel = CModel()\n",
    "cmodel.fit(corpus, y)"
   ]
  },
  {
   "cell_type": "code",
   "execution_count": 178,
   "metadata": {},
   "outputs": [
    {
     "name": "stdout",
     "output_type": "stream",
     "text": [
      "Model: 0.644951140065\n",
      "Base: 0.505971769815\n"
     ]
    }
   ],
   "source": [
    "print('Model:', accuracy_score(cmodel.predict(corpus_eval), y_eval))\n",
    "print('Base:', accuracy_score(np.full_like(y_eval, 0), y_eval))"
   ]
  },
  {
   "cell_type": "code",
   "execution_count": null,
   "metadata": {
    "collapsed": true
   },
   "outputs": [],
   "source": []
  },
  {
   "cell_type": "code",
   "execution_count": null,
   "metadata": {
    "collapsed": true
   },
   "outputs": [],
   "source": []
  },
  {
   "cell_type": "code",
   "execution_count": null,
   "metadata": {
    "collapsed": true
   },
   "outputs": [],
   "source": []
  },
  {
   "cell_type": "markdown",
   "metadata": {},
   "source": [
    "## Predict age"
   ]
  },
  {
   "cell_type": "code",
   "execution_count": 78,
   "metadata": {
    "collapsed": true
   },
   "outputs": [],
   "source": [
    "def mean_absolute_percentage_error(y_true, y_pred):\n",
    "    y_true = y_true.astype('float32')\n",
    "    y_pred = y_pred.astype('float32')\n",
    "    return np.mean(np.abs((y_true - y_pred) / y_true))"
   ]
  },
  {
   "cell_type": "code",
   "execution_count": 79,
   "metadata": {
    "collapsed": true
   },
   "outputs": [],
   "source": [
    "dfa = df"
   ]
  },
  {
   "cell_type": "code",
   "execution_count": 127,
   "metadata": {
    "collapsed": true
   },
   "outputs": [],
   "source": [
    "y = dfa['age'].values\n",
    "corpus = dfa['text'].values\n",
    "\n",
    "corpus_train, corpus_test, y_train, y_test = train_test_split(corpus, y, test_size=0.2, stratify=y)"
   ]
  },
  {
   "cell_type": "code",
   "execution_count": 128,
   "metadata": {},
   "outputs": [],
   "source": [
    "idxs = []\n",
    "m = np.min(np.bincount(y_test)[16:])\n",
    "for a in range(16, 41):\n",
    "    ids = np.where(y_test == a)[0]\n",
    "    np.random.shuffle(ids)\n",
    "    idxs.extend(ids[:m])\n",
    "corpus_test = corpus_test[idxs]\n",
    "y_test = y_test[idxs]"
   ]
  },
  {
   "cell_type": "code",
   "execution_count": 129,
   "metadata": {
    "collapsed": true
   },
   "outputs": [],
   "source": [
    "# word case\n",
    "vect = TfidfVectorizer(ngram_range=(1, 2), min_df=10, analyzer='word')\n",
    "vect.fit(corpus_train)\n",
    "\n",
    "X_train = vect.transform(corpus_train)\n",
    "X_test = vect.transform(corpus_test)"
   ]
  },
  {
   "cell_type": "code",
   "execution_count": 130,
   "metadata": {
    "collapsed": true
   },
   "outputs": [],
   "source": [
    "ros = RandomOverSampler()\n",
    "X_train_res, y_train_res = ros.fit_sample(X_train, y_train)"
   ]
  },
  {
   "cell_type": "code",
   "execution_count": 131,
   "metadata": {},
   "outputs": [
    {
     "data": {
      "text/plain": [
       "Ridge(alpha=8.0, copy_X=True, fit_intercept=True, max_iter=None,\n",
       "   normalize=False, random_state=None, solver='auto', tol=0.001)"
      ]
     },
     "execution_count": 131,
     "metadata": {},
     "output_type": "execute_result"
    }
   ],
   "source": [
    "age_predictor = linear_model.Ridge(alpha = 8.0)\n",
    "age_predictor.fit(X_train_res, y_train_res)"
   ]
  },
  {
   "cell_type": "code",
   "execution_count": 132,
   "metadata": {
    "collapsed": true
   },
   "outputs": [],
   "source": [
    "y_train__ = age_predictor.predict(X_train_res)\n",
    "y_test__ = age_predictor.predict(X_test)"
   ]
  },
  {
   "cell_type": "code",
   "execution_count": 133,
   "metadata": {
    "collapsed": true
   },
   "outputs": [],
   "source": [
    "inv_vocab = {v: k for k, v in vect.vocabulary_.items()}\n",
    "df_age_demo = pd.DataFrame()\n",
    "df_age_demo['Min Age'] = [inv_vocab[i] for i in np.argsort(age_predictor.coef_)[:20]] \n",
    "df_age_demo['Max Age'] = [inv_vocab[i] for i in np.argsort(age_predictor.coef_)[-20:]]"
   ]
  },
  {
   "cell_type": "code",
   "execution_count": 134,
   "metadata": {
    "collapsed": true
   },
   "outputs": [],
   "source": [
    "y_train__raw_word = age_predictor.predict(X_train_res)\n",
    "y_test__raw_word =  age_predictor.predict(X_test)"
   ]
  },
  {
   "cell_type": "code",
   "execution_count": 135,
   "metadata": {},
   "outputs": [
    {
     "name": "stdout",
     "output_type": "stream",
     "text": [
      "Train 5.34805978675\n",
      "Test 5.69190681868\n",
      "Base mean 6.24\n"
     ]
    }
   ],
   "source": [
    "print('Train', mean_absolute_error(y_train__, y_train_res))\n",
    "print('Test', mean_absolute_error(y_test__, y_test))\n",
    "print('Base mean', mean_absolute_error(np.full_like(y_test, np.mean(y_train_res)), y_test))"
   ]
  },
  {
   "cell_type": "code",
   "execution_count": 136,
   "metadata": {
    "collapsed": true
   },
   "outputs": [],
   "source": [
    "# char case\n",
    "vect = TfidfVectorizer(ngram_range=(1, 5), min_df=10, analyzer='char')\n",
    "vect.fit(corpus_train)\n",
    "\n",
    "X_train = vect.transform(corpus_train)\n",
    "X_test = vect.transform(corpus_test)"
   ]
  },
  {
   "cell_type": "code",
   "execution_count": 137,
   "metadata": {
    "collapsed": true
   },
   "outputs": [],
   "source": [
    "ros = RandomOverSampler(random_state=0)\n",
    "X_train, y_train = ros.fit_sample(X_train, y_train)"
   ]
  },
  {
   "cell_type": "code",
   "execution_count": 138,
   "metadata": {},
   "outputs": [
    {
     "data": {
      "text/plain": [
       "Ridge(alpha=5.0, copy_X=True, fit_intercept=True, max_iter=None,\n",
       "   normalize=False, random_state=None, solver='auto', tol=0.001)"
      ]
     },
     "execution_count": 138,
     "metadata": {},
     "output_type": "execute_result"
    }
   ],
   "source": [
    "age_predictor = linear_model.Ridge(alpha = 5.0)\n",
    "age_predictor.fit(X_train, y_train)"
   ]
  },
  {
   "cell_type": "code",
   "execution_count": 139,
   "metadata": {
    "collapsed": true
   },
   "outputs": [],
   "source": [
    "y_train__ = age_predictor.predict(X_train)\n",
    "y_test__ = age_predictor.predict(X_test)"
   ]
  },
  {
   "cell_type": "code",
   "execution_count": 140,
   "metadata": {
    "collapsed": true
   },
   "outputs": [],
   "source": [
    "y_train__raw_char = age_predictor.predict(X_train)\n",
    "y_test__raw_char = age_predictor.predict(X_test)"
   ]
  },
  {
   "cell_type": "code",
   "execution_count": 141,
   "metadata": {},
   "outputs": [
    {
     "name": "stdout",
     "output_type": "stream",
     "text": [
      "Train 4.91524767501\n",
      "Test 5.47351221962\n",
      "Base mean 6.24\n"
     ]
    }
   ],
   "source": [
    "print('Train', mean_absolute_error(y_train__, y_train))\n",
    "print('Test', mean_absolute_error(y_test__, y_test))\n",
    "print('Base mean', mean_absolute_error(np.full_like(y_test__, np.mean(y_train)), y_test))"
   ]
  },
  {
   "cell_type": "code",
   "execution_count": 142,
   "metadata": {
    "collapsed": true
   },
   "outputs": [],
   "source": [
    "y_train__stacked = (y_train__raw_char + y_train__raw_word) / 2.0\n",
    "y_train__stacked = (y_train__stacked)\n",
    "y_test__stacked = (y_test__raw_char + y_test__raw_word) / 2.0\n",
    "y_test__stacked = (y_test__stacked)"
   ]
  },
  {
   "cell_type": "code",
   "execution_count": 143,
   "metadata": {},
   "outputs": [
    {
     "name": "stdout",
     "output_type": "stream",
     "text": [
      "Train 5.06297357128\n",
      "Test 5.52872973823\n"
     ]
    }
   ],
   "source": [
    "print('Train', mean_absolute_error(y_train__stacked, y_train))\n",
    "print('Test', mean_absolute_error(y_test__stacked, y_test))"
   ]
  },
  {
   "cell_type": "code",
   "execution_count": 125,
   "metadata": {},
   "outputs": [
    {
     "data": {
      "text/html": [
       "<div>\n",
       "<style scoped>\n",
       "    .dataframe tbody tr th:only-of-type {\n",
       "        vertical-align: middle;\n",
       "    }\n",
       "\n",
       "    .dataframe tbody tr th {\n",
       "        vertical-align: top;\n",
       "    }\n",
       "\n",
       "    .dataframe thead th {\n",
       "        text-align: right;\n",
       "    }\n",
       "</style>\n",
       "<table border=\"1\" class=\"dataframe\">\n",
       "  <thead>\n",
       "    <tr style=\"text-align: right;\">\n",
       "      <th></th>\n",
       "      <th>Min Age</th>\n",
       "      <th>Max Age</th>\n",
       "    </tr>\n",
       "  </thead>\n",
       "  <tbody>\n",
       "    <tr>\n",
       "      <th>0</th>\n",
       "      <td>инст</td>\n",
       "      <td>рада новым</td>\n",
       "    </tr>\n",
       "    <tr>\n",
       "      <th>1</th>\n",
       "      <td>аниме</td>\n",
       "      <td>мебель</td>\n",
       "    </tr>\n",
       "    <tr>\n",
       "      <th>2</th>\n",
       "      <td>не кто</td>\n",
       "      <td>продаже</td>\n",
       "    </tr>\n",
       "    <tr>\n",
       "      <th>3</th>\n",
       "      <td>парня</td>\n",
       "      <td>40 лет</td>\n",
       "    </tr>\n",
       "    <tr>\n",
       "      <th>4</th>\n",
       "      <td>крутая</td>\n",
       "      <td>бабушка</td>\n",
       "    </tr>\n",
       "    <tr>\n",
       "      <th>5</th>\n",
       "      <td>inst</td>\n",
       "      <td>относись</td>\n",
       "    </tr>\n",
       "    <tr>\n",
       "      <th>6</th>\n",
       "      <td>не когда</td>\n",
       "      <td>массаж</td>\n",
       "    </tr>\n",
       "    <tr>\n",
       "      <th>7</th>\n",
       "      <td>не чего</td>\n",
       "      <td>женщина</td>\n",
       "    </tr>\n",
       "    <tr>\n",
       "      <th>8</th>\n",
       "      <td>паркур</td>\n",
       "      <td>ирина</td>\n",
       "    </tr>\n",
       "    <tr>\n",
       "      <th>9</th>\n",
       "      <td>псих</td>\n",
       "      <td>elena</td>\n",
       "    </tr>\n",
       "    <tr>\n",
       "      <th>10</th>\n",
       "      <td>кек</td>\n",
       "      <td>женат</td>\n",
       "    </tr>\n",
       "    <tr>\n",
       "      <th>11</th>\n",
       "      <td>минут назад</td>\n",
       "      <td>женщины</td>\n",
       "    </tr>\n",
       "    <tr>\n",
       "      <th>12</th>\n",
       "      <td>крут</td>\n",
       "      <td>мои дети</td>\n",
       "    </tr>\n",
       "    <tr>\n",
       "      <th>13</th>\n",
       "      <td>cs</td>\n",
       "      <td>татьяна</td>\n",
       "    </tr>\n",
       "    <tr>\n",
       "      <th>14</th>\n",
       "      <td>только не</td>\n",
       "      <td>наталья</td>\n",
       "    </tr>\n",
       "    <tr>\n",
       "      <th>15</th>\n",
       "      <td>по вам</td>\n",
       "      <td>гадание</td>\n",
       "    </tr>\n",
       "    <tr>\n",
       "      <th>16</th>\n",
       "      <td>игнор</td>\n",
       "      <td>замужем</td>\n",
       "    </tr>\n",
       "    <tr>\n",
       "      <th>17</th>\n",
       "      <td>minecraft</td>\n",
       "      <td>мастерская</td>\n",
       "    </tr>\n",
       "    <tr>\n",
       "      <th>18</th>\n",
       "      <td>дабавлю</td>\n",
       "      <td>детей</td>\n",
       "    </tr>\n",
       "    <tr>\n",
       "      <th>19</th>\n",
       "      <td>ребят</td>\n",
       "      <td>елена</td>\n",
       "    </tr>\n",
       "  </tbody>\n",
       "</table>\n",
       "</div>"
      ],
      "text/plain": [
       "        Min Age     Max Age\n",
       "0          инст  рада новым\n",
       "1         аниме      мебель\n",
       "2        не кто     продаже\n",
       "3         парня      40 лет\n",
       "4        крутая     бабушка\n",
       "5          inst    относись\n",
       "6      не когда      массаж\n",
       "7       не чего     женщина\n",
       "8        паркур       ирина\n",
       "9          псих       elena\n",
       "10          кек       женат\n",
       "11  минут назад     женщины\n",
       "12         крут    мои дети\n",
       "13           cs     татьяна\n",
       "14    только не     наталья\n",
       "15       по вам     гадание\n",
       "16        игнор     замужем\n",
       "17    minecraft  мастерская\n",
       "18      дабавлю       детей\n",
       "19        ребят       елена"
      ]
     },
     "execution_count": 125,
     "metadata": {},
     "output_type": "execute_result"
    }
   ],
   "source": [
    "df_age_demo.head(20)"
   ]
  },
  {
   "cell_type": "code",
   "execution_count": 146,
   "metadata": {
    "collapsed": true
   },
   "outputs": [],
   "source": [
    "class RModel:\n",
    "    def __init__(self):\n",
    "        self.word_vect = TfidfVectorizer(ngram_range=(1,2), min_df=10, analyzer='word')\n",
    "        self.char_vect = TfidfVectorizer(ngram_range=(1,4), min_df=10, analyzer='char')\n",
    "        self.word_predictor = linear_model.Ridge(alpha = 8.0)\n",
    "        self.char_predictor = linear_model.Ridge(alpha = 5.0)\n",
    "    \n",
    "    def fit(self, X, y):\n",
    "        self.word_vect.fit(X)\n",
    "        X_train = self.word_vect.transform(X)\n",
    "        X_train_res, y_train_res = RandomOverSampler().fit_sample(X_train, y)\n",
    "        self.word_predictor.fit(X_train_res, y_train_res)\n",
    "        \n",
    "        self.char_vect.fit(X)\n",
    "        X_train = self.char_vect.transform(X)\n",
    "        X_train_res, y_train_res = RandomOverSampler().fit_sample(X_train, y)\n",
    "        self.char_predictor.fit(X_train_res, y_train_res)\n",
    "    \n",
    "    def predict(self, X):\n",
    "        y_preds = []\n",
    "        \n",
    "        X_target = self.word_vect.transform(X)\n",
    "        y_preds.append(self.word_predictor.predict(X_target))\n",
    "        X_target = self.char_vect.transform(X)\n",
    "        y_preds.append(self.char_predictor.predict(X_target))\n",
    "        \n",
    "        return (y_preds[0] + y_preds[1]) / 2.0"
   ]
  },
  {
   "cell_type": "code",
   "execution_count": 147,
   "metadata": {},
   "outputs": [
    {
     "name": "stdout",
     "output_type": "stream",
     "text": [
      "fit word vect\n",
      "fit word pred\n",
      "fit char vect\n",
      "fit char pred\n",
      "Train: 5.035100314914137, Test: 5.513734914611344\n",
      "fit word vect\n",
      "fit word pred\n",
      "fit char vect\n",
      "fit char pred\n",
      "Train: 5.038292510043037, Test: 5.53921470832174\n",
      "fit word vect\n",
      "fit word pred\n",
      "fit char vect\n",
      "fit char pred\n",
      "Train: 5.033940849829584, Test: 5.5500055880735895\n",
      "fit word vect\n",
      "fit word pred\n",
      "fit char vect\n",
      "fit char pred\n",
      "Train: 5.046695941581583, Test: 5.517875851319246\n",
      "fit word vect\n",
      "fit word pred\n",
      "fit char vect\n",
      "fit char pred\n",
      "Train: 5.037042268432221, Test: 5.533469802676617\n",
      "Mean. Train: 5.038214376960112, Test: 5.530860173000507\n"
     ]
    }
   ],
   "source": [
    "kf = KFold(n_splits=5, shuffle=True)\n",
    "\n",
    "train_scores, test_scores = [], []\n",
    "\n",
    "for train, test in kf.split(corpus, y):\n",
    "    corpus_train, corpus_test = corpus[train], corpus[test]\n",
    "    y_train, y_test = y[train], y[test]\n",
    "    idxs = []\n",
    "    m = np.min(np.bincount(y_test)[16:])\n",
    "    for a in range(16, 41):\n",
    "        ids = np.where(y_test == a)[0]\n",
    "        np.random.shuffle(ids)\n",
    "        idxs.extend(ids[:m])\n",
    "    corpus_test = corpus_test[idxs]\n",
    "    y_test = y_test[idxs]\n",
    "    \n",
    "    rmodel = RModel()\n",
    "    rmodel.fit(corpus_train, y_train)\n",
    "    train_scores.append(mean_absolute_error(rmodel.predict(corpus_train), y_train))\n",
    "    test_scores.append(mean_absolute_error(rmodel.predict(corpus_test), y_test))\n",
    "    print('Train: {}, Test: {}'.format(train_scores[-1], test_scores[-1]))\n",
    "\n",
    "print('Mean. Train: {}, Test: {}'.format(np.mean(train_scores), np.mean(test_scores)))"
   ]
  },
  {
   "cell_type": "markdown",
   "metadata": {
    "collapsed": true
   },
   "source": [
    "## Eval"
   ]
  },
  {
   "cell_type": "code",
   "execution_count": 160,
   "metadata": {
    "collapsed": true
   },
   "outputs": [],
   "source": [
    "y_eval = dfe['age'].values\n",
    "corpus_eval = dfe['text'].values\n",
    "\n",
    "idxs = []\n",
    "m = np.min(np.bincount(y_eval)[16:])\n",
    "for a in range(16, 41):\n",
    "    ids = np.where(y_eval == a)[0]\n",
    "    np.random.shuffle(ids)\n",
    "    idxs.extend(ids[:m])\n",
    "corpus_eval = corpus_eval[idxs]\n",
    "y_eval = y_eval[idxs]"
   ]
  },
  {
   "cell_type": "code",
   "execution_count": 162,
   "metadata": {},
   "outputs": [
    {
     "name": "stdout",
     "output_type": "stream",
     "text": [
      "fit word vect\n",
      "fit word pred\n",
      "fit char vect\n",
      "fit char pred\n"
     ]
    }
   ],
   "source": [
    "rmodel = RModel()\n",
    "rmodel.fit(corpus, y)"
   ]
  },
  {
   "cell_type": "code",
   "execution_count": 163,
   "metadata": {},
   "outputs": [
    {
     "name": "stdout",
     "output_type": "stream",
     "text": [
      "Model: 6.11936811624\n",
      "Base: 6.24\n"
     ]
    }
   ],
   "source": [
    "print('Model:', mean_absolute_error(rmodel.predict(corpus_eval), y_eval))\n",
    "print('Base:', mean_absolute_error(np.full_like(y_eval, 28), y_eval))"
   ]
  },
  {
   "cell_type": "code",
   "execution_count": null,
   "metadata": {
    "collapsed": true
   },
   "outputs": [],
   "source": []
  }
 ],
 "metadata": {
  "kernelspec": {
   "display_name": "Python 3",
   "language": "python",
   "name": "python3"
  },
  "language_info": {
   "codemirror_mode": {
    "name": "ipython",
    "version": 3
   },
   "file_extension": ".py",
   "mimetype": "text/x-python",
   "name": "python",
   "nbconvert_exporter": "python",
   "pygments_lexer": "ipython3",
   "version": "3.5.2"
  }
 },
 "nbformat": 4,
 "nbformat_minor": 2
}
