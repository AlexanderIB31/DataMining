{
 "cells": [
  {
   "cell_type": "code",
   "execution_count": 1,
   "metadata": {
    "collapsed": true
   },
   "outputs": [],
   "source": [
    "import pandas as pd\n",
    "import numpy as np\n",
    "\n",
    "from sklearn.feature_extraction.text import CountVectorizer, TfidfVectorizer\n",
    "from sklearn.linear_model import LogisticRegression\n",
    "from sklearn.linear_model import LinearRegression\n",
    "from sklearn.metrics import accuracy_score\n",
    "from sklearn.metrics import mean_absolute_error\n",
    "from sklearn.metrics import mean_squared_error\n"
   ]
  },
  {
   "cell_type": "code",
   "execution_count": 2,
   "metadata": {},
   "outputs": [
    {
     "name": "stdout",
     "output_type": "stream",
     "text": [
      "(99971, 6)\n"
     ]
    },
    {
     "data": {
      "text/html": [
       "<div>\n",
       "<style>\n",
       "    .dataframe thead tr:only-child th {\n",
       "        text-align: right;\n",
       "    }\n",
       "\n",
       "    .dataframe thead th {\n",
       "        text-align: left;\n",
       "    }\n",
       "\n",
       "    .dataframe tbody tr th {\n",
       "        vertical-align: top;\n",
       "    }\n",
       "</style>\n",
       "<table border=\"1\" class=\"dataframe\">\n",
       "  <thead>\n",
       "    <tr style=\"text-align: right;\">\n",
       "      <th></th>\n",
       "      <th>id</th>\n",
       "      <th>text</th>\n",
       "      <th>sex</th>\n",
       "      <th>city</th>\n",
       "      <th>age</th>\n",
       "      <th>source</th>\n",
       "    </tr>\n",
       "  </thead>\n",
       "  <tbody>\n",
       "    <tr>\n",
       "      <th>0</th>\n",
       "      <td>55252596</td>\n",
       "      <td>https://vk.com/club142720150</td>\n",
       "      <td>2</td>\n",
       "      <td>1</td>\n",
       "      <td>26</td>\n",
       "      <td>1</td>\n",
       "    </tr>\n",
       "    <tr>\n",
       "      <th>1</th>\n",
       "      <td>428254633</td>\n",
       "      <td>Что нужно смертный?</td>\n",
       "      <td>2</td>\n",
       "      <td>1</td>\n",
       "      <td>27</td>\n",
       "      <td>1</td>\n",
       "    </tr>\n",
       "    <tr>\n",
       "      <th>2</th>\n",
       "      <td>300050466</td>\n",
       "      <td>ухожу в фейсбук</td>\n",
       "      <td>2</td>\n",
       "      <td>1</td>\n",
       "      <td>39</td>\n",
       "      <td>1</td>\n",
       "    </tr>\n",
       "    <tr>\n",
       "      <th>3</th>\n",
       "      <td>213834351</td>\n",
       "      <td>Хочешь зарабатывать на просмотрах рекламы? Спр...</td>\n",
       "      <td>1</td>\n",
       "      <td>1</td>\n",
       "      <td>22</td>\n",
       "      <td>1</td>\n",
       "    </tr>\n",
       "    <tr>\n",
       "      <th>4</th>\n",
       "      <td>139914748</td>\n",
       "      <td>Приятно осознавать, что зависимость взаимна!!!...</td>\n",
       "      <td>1</td>\n",
       "      <td>2</td>\n",
       "      <td>33</td>\n",
       "      <td>1</td>\n",
       "    </tr>\n",
       "  </tbody>\n",
       "</table>\n",
       "</div>"
      ],
      "text/plain": [
       "          id                                               text  sex  city  \\\n",
       "0   55252596                       https://vk.com/club142720150    2     1   \n",
       "1  428254633                                Что нужно смертный?    2     1   \n",
       "2  300050466                                    ухожу в фейсбук    2     1   \n",
       "3  213834351  Хочешь зарабатывать на просмотрах рекламы? Спр...    1     1   \n",
       "4  139914748  Приятно осознавать, что зависимость взаимна!!!...    1     2   \n",
       "\n",
       "   age  source  \n",
       "0   26       1  \n",
       "1   27       1  \n",
       "2   39       1  \n",
       "3   22       1  \n",
       "4   33       1  "
      ]
     },
     "execution_count": 2,
     "metadata": {},
     "output_type": "execute_result"
    }
   ],
   "source": [
    "df = pd.read_csv('vk-crawl.csv', sep=',')\n",
    "\n",
    "df = df.dropna()\n",
    "\n",
    "df = df[df['text'].str.contains('[a-zA-Zа-яА-Я]')]\n",
    "\n",
    "df = df.sample(frac=1).reset_index(drop=True)\n",
    "idxs = []\n",
    "for a in range(16,41):\n",
    "    idxs.extend(df.index[df['age'] == a].tolist()[:4000])\n",
    "df = df.loc[idxs]\n",
    "\n",
    "df = df.sample(frac=1).reset_index(drop=True)\n",
    "print(df.shape)\n",
    "df.head()"
   ]
  },
  {
   "cell_type": "code",
   "execution_count": 3,
   "metadata": {},
   "outputs": [
    {
     "name": "stdout",
     "output_type": "stream",
     "text": [
      "(99971, 2567)\n"
     ]
    }
   ],
   "source": [
    "corpus = df['text'].values\n",
    "vect = TfidfVectorizer(ngram_range=(1,1), min_df=30)\n",
    "X = vect.fit_transform(corpus)\n",
    "X = X.toarray()\n",
    "print(X.shape)"
   ]
  },
  {
   "cell_type": "code",
   "execution_count": 15,
   "metadata": {},
   "outputs": [
    {
     "name": "stdout",
     "output_type": "stream",
     "text": [
      "(99971,)\n",
      "(99971,)\n"
     ]
    }
   ],
   "source": [
    "y_sex = df['sex'].values - 1\n",
    "print(y_sex.shape)\n",
    "y_age = np.log(df['age'].values) - np.log(16) ## log\n",
    "print(y_age.shape)"
   ]
  },
  {
   "cell_type": "code",
   "execution_count": 16,
   "metadata": {},
   "outputs": [],
   "source": [
    "n_samples = X.shape[0]\n",
    "frac = 0.8\n",
    "X_train = X[:int(n_samples*frac)]\n",
    "X_test = X[int(n_samples*frac):]\n",
    "y_sex_train = y_sex[:int(n_samples*frac)]\n",
    "y_sex_test = y_sex[int(n_samples*frac):]\n",
    "y_age_train = y_age[:int(n_samples*frac)]\n",
    "y_age_test = y_age[int(n_samples*frac):]"
   ]
  },
  {
   "cell_type": "code",
   "execution_count": 26,
   "metadata": {},
   "outputs": [
    {
     "name": "stdout",
     "output_type": "stream",
     "text": [
      "Test 0.624056014004\n",
      "Train 0.653533560068\n"
     ]
    }
   ],
   "source": [
    "sex_predictor = LogisticRegression()\n",
    "\n",
    "sex_predictor.fit(X_train, y_sex_train)\n",
    "y_sex__ = sex_predictor.predict(X_test)\n",
    "\n",
    "print('Test', accuracy_score(y_sex__, y_sex_test))\n",
    "print('Train', accuracy_score(sex_predictor.predict(X_train), y_sex_train))"
   ]
  },
  {
   "cell_type": "code",
   "execution_count": 25,
   "metadata": {},
   "outputs": [
    {
     "name": "stdout",
     "output_type": "stream",
     "text": [
      "0.555938984746\n"
     ]
    }
   ],
   "source": [
    "mean_ = np.zeros_like(y_sex_test)\n",
    "print(accuracy_score(mean_, y_sex_test))"
   ]
  },
  {
   "cell_type": "code",
   "execution_count": 27,
   "metadata": {},
   "outputs": [
    {
     "name": "stdout",
     "output_type": "stream",
     "text": [
      "Test 5.87442500246\n",
      "Train 5.67931056103\n"
     ]
    }
   ],
   "source": [
    "age_predictor = LinearRegression()\n",
    "\n",
    "age_predictor.fit(X_train, y_age_train)\n",
    "y_age__ = age_predictor.predict(X_test)\n",
    "y_age__ = np.exp(y_age__ + np.log(16))\n",
    "\n",
    "print('Test', mean_absolute_error(y_age__, np.exp(y_age_test + np.log(16))))\n",
    "print('Train', mean_absolute_error(np.exp(age_predictor.predict(X_train) + np.log(16)), np.exp(y_age_train + np.log(16))))"
   ]
  },
  {
   "cell_type": "code",
   "execution_count": 23,
   "metadata": {},
   "outputs": [
    {
     "name": "stdout",
     "output_type": "stream",
     "text": [
      "6.24376094024\n"
     ]
    }
   ],
   "source": [
    "mean_ = np.full_like(y_age_test, 28)\n",
    "print(mean_absolute_error(mean_, np.exp(y_age_test + np.log(16))))"
   ]
  },
  {
   "cell_type": "code",
   "execution_count": null,
   "metadata": {
    "collapsed": true
   },
   "outputs": [],
   "source": []
  },
  {
   "cell_type": "code",
   "execution_count": null,
   "metadata": {
    "collapsed": true
   },
   "outputs": [],
   "source": []
  },
  {
   "cell_type": "code",
   "execution_count": null,
   "metadata": {
    "collapsed": true
   },
   "outputs": [],
   "source": []
  },
  {
   "cell_type": "code",
   "execution_count": null,
   "metadata": {
    "collapsed": true
   },
   "outputs": [],
   "source": []
  }
 ],
 "metadata": {
  "kernelspec": {
   "display_name": "Python 3",
   "language": "python",
   "name": "python3"
  },
  "language_info": {
   "codemirror_mode": {
    "name": "ipython",
    "version": 3
   },
   "file_extension": ".py",
   "mimetype": "text/x-python",
   "name": "python",
   "nbconvert_exporter": "python",
   "pygments_lexer": "ipython3",
   "version": "3.5.2"
  }
 },
 "nbformat": 4,
 "nbformat_minor": 2
}
